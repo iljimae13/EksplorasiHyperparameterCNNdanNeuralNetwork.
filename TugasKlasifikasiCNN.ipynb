{
  "nbformat": 4,
  "nbformat_minor": 0,
  "metadata": {
    "colab": {
      "name": "TugasKlasifikasiCNN.ipynb",
      "provenance": [],
      "mount_file_id": "1jKJoUiq3rlTWm1ptkMkKI1WRPbDkHmjd",
      "authorship_tag": "ABX9TyNIjoWshbfuRxEJbFBcxd6s",
      "include_colab_link": true
    },
    "kernelspec": {
      "name": "python3",
      "display_name": "Python 3"
    },
    "language_info": {
      "name": "python"
    }
  },
  "cells": [
    {
      "cell_type": "markdown",
      "metadata": {
        "id": "view-in-github",
        "colab_type": "text"
      },
      "source": [
        "<a href=\"https://colab.research.google.com/github/iljimae13/EksplorasiHyperparameterCNNdanNeuralNetwork./blob/main/TugasKlasifikasiCNN.ipynb\" target=\"_parent\"><img src=\"https://colab.research.google.com/assets/colab-badge.svg\" alt=\"Open In Colab\"/></a>"
      ]
    },
    {
      "cell_type": "markdown",
      "source": [
        "Mendefinisikan library yang dibutuhkan dalam proses klasifikasi menggunakan Tensorflow Keras"
      ],
      "metadata": {
        "id": "tiBKUt5hV7II"
      }
    },
    {
      "cell_type": "code",
      "execution_count": 1,
      "metadata": {
        "id": "jFJ99--8R1k1"
      },
      "outputs": [],
      "source": [
        "import tensorflow as tf\n",
        "from tensorflow.keras import models, layers\n",
        "from tensorflow import keras\n",
        "import matplotlib.pyplot as plt"
      ]
    },
    {
      "cell_type": "code",
      "source": [
        "import numpy as np # linear algebra\n",
        "import pandas as pd # data processing, CSV file I/O (e.g. pd.read_csv)\n",
        "import matplotlib.pyplot as plt #for plotting\n",
        "import seaborn as sns\n",
        "%matplotlib inline\n",
        "import warnings\n",
        "warnings.filterwarnings('ignore')"
      ],
      "metadata": {
        "id": "Cg4FNRN6XBhd"
      },
      "execution_count": 2,
      "outputs": []
    },
    {
      "cell_type": "markdown",
      "source": [
        "Import dataset di Google Drive"
      ],
      "metadata": {
        "id": "4g252Y9EWTL_"
      }
    },
    {
      "cell_type": "code",
      "source": [
        "from google.colab import drive\n",
        "drive.mount('/content/drive')"
      ],
      "metadata": {
        "colab": {
          "base_uri": "https://localhost:8080/"
        },
        "id": "ICKHHKx63bxV",
        "outputId": "a3382ecb-5182-40b0-f04f-67a0554e9675"
      },
      "execution_count": 3,
      "outputs": [
        {
          "output_type": "stream",
          "name": "stdout",
          "text": [
            "Mounted at /content/drive\n"
          ]
        }
      ]
    },
    {
      "cell_type": "markdown",
      "source": [
        "Dataset yang digunakan menggunakan Digit Recognizer dari kaggle"
      ],
      "metadata": {
        "id": "6eoh33QNWZ0k"
      }
    },
    {
      "cell_type": "code",
      "source": [
        "train = pd.read_csv(\"/content/drive/MyDrive/Program/Digit/train.csv\")\n",
        "test = pd.read_csv(\"/content/drive/MyDrive/Program/Digit/test.csv\")"
      ],
      "metadata": {
        "id": "OUxBKhePNwz_"
      },
      "execution_count": 4,
      "outputs": []
    },
    {
      "cell_type": "code",
      "source": [
        "print(train.shape)\n",
        "print(train.info())\n",
        "train.head()"
      ],
      "metadata": {
        "colab": {
          "base_uri": "https://localhost:8080/",
          "height": 421
        },
        "id": "wxv90Hkt4AYf",
        "outputId": "b76f7afd-0b81-43de-da1d-b1bcb6871e3d"
      },
      "execution_count": 5,
      "outputs": [
        {
          "output_type": "stream",
          "name": "stdout",
          "text": [
            "(42000, 785)\n",
            "<class 'pandas.core.frame.DataFrame'>\n",
            "RangeIndex: 42000 entries, 0 to 41999\n",
            "Columns: 785 entries, label to pixel783\n",
            "dtypes: int64(785)\n",
            "memory usage: 251.5 MB\n",
            "None\n"
          ]
        },
        {
          "output_type": "execute_result",
          "data": {
            "text/plain": [
              "   label  pixel0  pixel1  pixel2  pixel3  pixel4  pixel5  pixel6  pixel7  \\\n",
              "0      1       0       0       0       0       0       0       0       0   \n",
              "1      0       0       0       0       0       0       0       0       0   \n",
              "2      1       0       0       0       0       0       0       0       0   \n",
              "3      4       0       0       0       0       0       0       0       0   \n",
              "4      0       0       0       0       0       0       0       0       0   \n",
              "\n",
              "   pixel8  ...  pixel774  pixel775  pixel776  pixel777  pixel778  pixel779  \\\n",
              "0       0  ...         0         0         0         0         0         0   \n",
              "1       0  ...         0         0         0         0         0         0   \n",
              "2       0  ...         0         0         0         0         0         0   \n",
              "3       0  ...         0         0         0         0         0         0   \n",
              "4       0  ...         0         0         0         0         0         0   \n",
              "\n",
              "   pixel780  pixel781  pixel782  pixel783  \n",
              "0         0         0         0         0  \n",
              "1         0         0         0         0  \n",
              "2         0         0         0         0  \n",
              "3         0         0         0         0  \n",
              "4         0         0         0         0  \n",
              "\n",
              "[5 rows x 785 columns]"
            ],
            "text/html": [
              "\n",
              "  <div id=\"df-2ab1958b-e14e-41ec-a87e-0df73d1b7f57\">\n",
              "    <div class=\"colab-df-container\">\n",
              "      <div>\n",
              "<style scoped>\n",
              "    .dataframe tbody tr th:only-of-type {\n",
              "        vertical-align: middle;\n",
              "    }\n",
              "\n",
              "    .dataframe tbody tr th {\n",
              "        vertical-align: top;\n",
              "    }\n",
              "\n",
              "    .dataframe thead th {\n",
              "        text-align: right;\n",
              "    }\n",
              "</style>\n",
              "<table border=\"1\" class=\"dataframe\">\n",
              "  <thead>\n",
              "    <tr style=\"text-align: right;\">\n",
              "      <th></th>\n",
              "      <th>label</th>\n",
              "      <th>pixel0</th>\n",
              "      <th>pixel1</th>\n",
              "      <th>pixel2</th>\n",
              "      <th>pixel3</th>\n",
              "      <th>pixel4</th>\n",
              "      <th>pixel5</th>\n",
              "      <th>pixel6</th>\n",
              "      <th>pixel7</th>\n",
              "      <th>pixel8</th>\n",
              "      <th>...</th>\n",
              "      <th>pixel774</th>\n",
              "      <th>pixel775</th>\n",
              "      <th>pixel776</th>\n",
              "      <th>pixel777</th>\n",
              "      <th>pixel778</th>\n",
              "      <th>pixel779</th>\n",
              "      <th>pixel780</th>\n",
              "      <th>pixel781</th>\n",
              "      <th>pixel782</th>\n",
              "      <th>pixel783</th>\n",
              "    </tr>\n",
              "  </thead>\n",
              "  <tbody>\n",
              "    <tr>\n",
              "      <th>0</th>\n",
              "      <td>1</td>\n",
              "      <td>0</td>\n",
              "      <td>0</td>\n",
              "      <td>0</td>\n",
              "      <td>0</td>\n",
              "      <td>0</td>\n",
              "      <td>0</td>\n",
              "      <td>0</td>\n",
              "      <td>0</td>\n",
              "      <td>0</td>\n",
              "      <td>...</td>\n",
              "      <td>0</td>\n",
              "      <td>0</td>\n",
              "      <td>0</td>\n",
              "      <td>0</td>\n",
              "      <td>0</td>\n",
              "      <td>0</td>\n",
              "      <td>0</td>\n",
              "      <td>0</td>\n",
              "      <td>0</td>\n",
              "      <td>0</td>\n",
              "    </tr>\n",
              "    <tr>\n",
              "      <th>1</th>\n",
              "      <td>0</td>\n",
              "      <td>0</td>\n",
              "      <td>0</td>\n",
              "      <td>0</td>\n",
              "      <td>0</td>\n",
              "      <td>0</td>\n",
              "      <td>0</td>\n",
              "      <td>0</td>\n",
              "      <td>0</td>\n",
              "      <td>0</td>\n",
              "      <td>...</td>\n",
              "      <td>0</td>\n",
              "      <td>0</td>\n",
              "      <td>0</td>\n",
              "      <td>0</td>\n",
              "      <td>0</td>\n",
              "      <td>0</td>\n",
              "      <td>0</td>\n",
              "      <td>0</td>\n",
              "      <td>0</td>\n",
              "      <td>0</td>\n",
              "    </tr>\n",
              "    <tr>\n",
              "      <th>2</th>\n",
              "      <td>1</td>\n",
              "      <td>0</td>\n",
              "      <td>0</td>\n",
              "      <td>0</td>\n",
              "      <td>0</td>\n",
              "      <td>0</td>\n",
              "      <td>0</td>\n",
              "      <td>0</td>\n",
              "      <td>0</td>\n",
              "      <td>0</td>\n",
              "      <td>...</td>\n",
              "      <td>0</td>\n",
              "      <td>0</td>\n",
              "      <td>0</td>\n",
              "      <td>0</td>\n",
              "      <td>0</td>\n",
              "      <td>0</td>\n",
              "      <td>0</td>\n",
              "      <td>0</td>\n",
              "      <td>0</td>\n",
              "      <td>0</td>\n",
              "    </tr>\n",
              "    <tr>\n",
              "      <th>3</th>\n",
              "      <td>4</td>\n",
              "      <td>0</td>\n",
              "      <td>0</td>\n",
              "      <td>0</td>\n",
              "      <td>0</td>\n",
              "      <td>0</td>\n",
              "      <td>0</td>\n",
              "      <td>0</td>\n",
              "      <td>0</td>\n",
              "      <td>0</td>\n",
              "      <td>...</td>\n",
              "      <td>0</td>\n",
              "      <td>0</td>\n",
              "      <td>0</td>\n",
              "      <td>0</td>\n",
              "      <td>0</td>\n",
              "      <td>0</td>\n",
              "      <td>0</td>\n",
              "      <td>0</td>\n",
              "      <td>0</td>\n",
              "      <td>0</td>\n",
              "    </tr>\n",
              "    <tr>\n",
              "      <th>4</th>\n",
              "      <td>0</td>\n",
              "      <td>0</td>\n",
              "      <td>0</td>\n",
              "      <td>0</td>\n",
              "      <td>0</td>\n",
              "      <td>0</td>\n",
              "      <td>0</td>\n",
              "      <td>0</td>\n",
              "      <td>0</td>\n",
              "      <td>0</td>\n",
              "      <td>...</td>\n",
              "      <td>0</td>\n",
              "      <td>0</td>\n",
              "      <td>0</td>\n",
              "      <td>0</td>\n",
              "      <td>0</td>\n",
              "      <td>0</td>\n",
              "      <td>0</td>\n",
              "      <td>0</td>\n",
              "      <td>0</td>\n",
              "      <td>0</td>\n",
              "    </tr>\n",
              "  </tbody>\n",
              "</table>\n",
              "<p>5 rows × 785 columns</p>\n",
              "</div>\n",
              "      <button class=\"colab-df-convert\" onclick=\"convertToInteractive('df-2ab1958b-e14e-41ec-a87e-0df73d1b7f57')\"\n",
              "              title=\"Convert this dataframe to an interactive table.\"\n",
              "              style=\"display:none;\">\n",
              "        \n",
              "  <svg xmlns=\"http://www.w3.org/2000/svg\" height=\"24px\"viewBox=\"0 0 24 24\"\n",
              "       width=\"24px\">\n",
              "    <path d=\"M0 0h24v24H0V0z\" fill=\"none\"/>\n",
              "    <path d=\"M18.56 5.44l.94 2.06.94-2.06 2.06-.94-2.06-.94-.94-2.06-.94 2.06-2.06.94zm-11 1L8.5 8.5l.94-2.06 2.06-.94-2.06-.94L8.5 2.5l-.94 2.06-2.06.94zm10 10l.94 2.06.94-2.06 2.06-.94-2.06-.94-.94-2.06-.94 2.06-2.06.94z\"/><path d=\"M17.41 7.96l-1.37-1.37c-.4-.4-.92-.59-1.43-.59-.52 0-1.04.2-1.43.59L10.3 9.45l-7.72 7.72c-.78.78-.78 2.05 0 2.83L4 21.41c.39.39.9.59 1.41.59.51 0 1.02-.2 1.41-.59l7.78-7.78 2.81-2.81c.8-.78.8-2.07 0-2.86zM5.41 20L4 18.59l7.72-7.72 1.47 1.35L5.41 20z\"/>\n",
              "  </svg>\n",
              "      </button>\n",
              "      \n",
              "  <style>\n",
              "    .colab-df-container {\n",
              "      display:flex;\n",
              "      flex-wrap:wrap;\n",
              "      gap: 12px;\n",
              "    }\n",
              "\n",
              "    .colab-df-convert {\n",
              "      background-color: #E8F0FE;\n",
              "      border: none;\n",
              "      border-radius: 50%;\n",
              "      cursor: pointer;\n",
              "      display: none;\n",
              "      fill: #1967D2;\n",
              "      height: 32px;\n",
              "      padding: 0 0 0 0;\n",
              "      width: 32px;\n",
              "    }\n",
              "\n",
              "    .colab-df-convert:hover {\n",
              "      background-color: #E2EBFA;\n",
              "      box-shadow: 0px 1px 2px rgba(60, 64, 67, 0.3), 0px 1px 3px 1px rgba(60, 64, 67, 0.15);\n",
              "      fill: #174EA6;\n",
              "    }\n",
              "\n",
              "    [theme=dark] .colab-df-convert {\n",
              "      background-color: #3B4455;\n",
              "      fill: #D2E3FC;\n",
              "    }\n",
              "\n",
              "    [theme=dark] .colab-df-convert:hover {\n",
              "      background-color: #434B5C;\n",
              "      box-shadow: 0px 1px 3px 1px rgba(0, 0, 0, 0.15);\n",
              "      filter: drop-shadow(0px 1px 2px rgba(0, 0, 0, 0.3));\n",
              "      fill: #FFFFFF;\n",
              "    }\n",
              "  </style>\n",
              "\n",
              "      <script>\n",
              "        const buttonEl =\n",
              "          document.querySelector('#df-2ab1958b-e14e-41ec-a87e-0df73d1b7f57 button.colab-df-convert');\n",
              "        buttonEl.style.display =\n",
              "          google.colab.kernel.accessAllowed ? 'block' : 'none';\n",
              "\n",
              "        async function convertToInteractive(key) {\n",
              "          const element = document.querySelector('#df-2ab1958b-e14e-41ec-a87e-0df73d1b7f57');\n",
              "          const dataTable =\n",
              "            await google.colab.kernel.invokeFunction('convertToInteractive',\n",
              "                                                     [key], {});\n",
              "          if (!dataTable) return;\n",
              "\n",
              "          const docLinkHtml = 'Like what you see? Visit the ' +\n",
              "            '<a target=\"_blank\" href=https://colab.research.google.com/notebooks/data_table.ipynb>data table notebook</a>'\n",
              "            + ' to learn more about interactive tables.';\n",
              "          element.innerHTML = '';\n",
              "          dataTable['output_type'] = 'display_data';\n",
              "          await google.colab.output.renderOutput(dataTable, element);\n",
              "          const docLink = document.createElement('div');\n",
              "          docLink.innerHTML = docLinkHtml;\n",
              "          element.appendChild(docLink);\n",
              "        }\n",
              "      </script>\n",
              "    </div>\n",
              "  </div>\n",
              "  "
            ]
          },
          "metadata": {},
          "execution_count": 5
        }
      ]
    },
    {
      "cell_type": "code",
      "source": [
        "print(test.shape)\n",
        "print(test.info())\n",
        "test.head()"
      ],
      "metadata": {
        "colab": {
          "base_uri": "https://localhost:8080/",
          "height": 421
        },
        "id": "gYeTCdmn4EVg",
        "outputId": "dd3b503f-790a-4250-a99a-975d1f3bb030"
      },
      "execution_count": 6,
      "outputs": [
        {
          "output_type": "stream",
          "name": "stdout",
          "text": [
            "(28000, 784)\n",
            "<class 'pandas.core.frame.DataFrame'>\n",
            "RangeIndex: 28000 entries, 0 to 27999\n",
            "Columns: 784 entries, pixel0 to pixel783\n",
            "dtypes: int64(784)\n",
            "memory usage: 167.5 MB\n",
            "None\n"
          ]
        },
        {
          "output_type": "execute_result",
          "data": {
            "text/plain": [
              "   pixel0  pixel1  pixel2  pixel3  pixel4  pixel5  pixel6  pixel7  pixel8  \\\n",
              "0       0       0       0       0       0       0       0       0       0   \n",
              "1       0       0       0       0       0       0       0       0       0   \n",
              "2       0       0       0       0       0       0       0       0       0   \n",
              "3       0       0       0       0       0       0       0       0       0   \n",
              "4       0       0       0       0       0       0       0       0       0   \n",
              "\n",
              "   pixel9  ...  pixel774  pixel775  pixel776  pixel777  pixel778  pixel779  \\\n",
              "0       0  ...         0         0         0         0         0         0   \n",
              "1       0  ...         0         0         0         0         0         0   \n",
              "2       0  ...         0         0         0         0         0         0   \n",
              "3       0  ...         0         0         0         0         0         0   \n",
              "4       0  ...         0         0         0         0         0         0   \n",
              "\n",
              "   pixel780  pixel781  pixel782  pixel783  \n",
              "0         0         0         0         0  \n",
              "1         0         0         0         0  \n",
              "2         0         0         0         0  \n",
              "3         0         0         0         0  \n",
              "4         0         0         0         0  \n",
              "\n",
              "[5 rows x 784 columns]"
            ],
            "text/html": [
              "\n",
              "  <div id=\"df-6f3937e9-28e9-4628-ac1b-a33e460af6d7\">\n",
              "    <div class=\"colab-df-container\">\n",
              "      <div>\n",
              "<style scoped>\n",
              "    .dataframe tbody tr th:only-of-type {\n",
              "        vertical-align: middle;\n",
              "    }\n",
              "\n",
              "    .dataframe tbody tr th {\n",
              "        vertical-align: top;\n",
              "    }\n",
              "\n",
              "    .dataframe thead th {\n",
              "        text-align: right;\n",
              "    }\n",
              "</style>\n",
              "<table border=\"1\" class=\"dataframe\">\n",
              "  <thead>\n",
              "    <tr style=\"text-align: right;\">\n",
              "      <th></th>\n",
              "      <th>pixel0</th>\n",
              "      <th>pixel1</th>\n",
              "      <th>pixel2</th>\n",
              "      <th>pixel3</th>\n",
              "      <th>pixel4</th>\n",
              "      <th>pixel5</th>\n",
              "      <th>pixel6</th>\n",
              "      <th>pixel7</th>\n",
              "      <th>pixel8</th>\n",
              "      <th>pixel9</th>\n",
              "      <th>...</th>\n",
              "      <th>pixel774</th>\n",
              "      <th>pixel775</th>\n",
              "      <th>pixel776</th>\n",
              "      <th>pixel777</th>\n",
              "      <th>pixel778</th>\n",
              "      <th>pixel779</th>\n",
              "      <th>pixel780</th>\n",
              "      <th>pixel781</th>\n",
              "      <th>pixel782</th>\n",
              "      <th>pixel783</th>\n",
              "    </tr>\n",
              "  </thead>\n",
              "  <tbody>\n",
              "    <tr>\n",
              "      <th>0</th>\n",
              "      <td>0</td>\n",
              "      <td>0</td>\n",
              "      <td>0</td>\n",
              "      <td>0</td>\n",
              "      <td>0</td>\n",
              "      <td>0</td>\n",
              "      <td>0</td>\n",
              "      <td>0</td>\n",
              "      <td>0</td>\n",
              "      <td>0</td>\n",
              "      <td>...</td>\n",
              "      <td>0</td>\n",
              "      <td>0</td>\n",
              "      <td>0</td>\n",
              "      <td>0</td>\n",
              "      <td>0</td>\n",
              "      <td>0</td>\n",
              "      <td>0</td>\n",
              "      <td>0</td>\n",
              "      <td>0</td>\n",
              "      <td>0</td>\n",
              "    </tr>\n",
              "    <tr>\n",
              "      <th>1</th>\n",
              "      <td>0</td>\n",
              "      <td>0</td>\n",
              "      <td>0</td>\n",
              "      <td>0</td>\n",
              "      <td>0</td>\n",
              "      <td>0</td>\n",
              "      <td>0</td>\n",
              "      <td>0</td>\n",
              "      <td>0</td>\n",
              "      <td>0</td>\n",
              "      <td>...</td>\n",
              "      <td>0</td>\n",
              "      <td>0</td>\n",
              "      <td>0</td>\n",
              "      <td>0</td>\n",
              "      <td>0</td>\n",
              "      <td>0</td>\n",
              "      <td>0</td>\n",
              "      <td>0</td>\n",
              "      <td>0</td>\n",
              "      <td>0</td>\n",
              "    </tr>\n",
              "    <tr>\n",
              "      <th>2</th>\n",
              "      <td>0</td>\n",
              "      <td>0</td>\n",
              "      <td>0</td>\n",
              "      <td>0</td>\n",
              "      <td>0</td>\n",
              "      <td>0</td>\n",
              "      <td>0</td>\n",
              "      <td>0</td>\n",
              "      <td>0</td>\n",
              "      <td>0</td>\n",
              "      <td>...</td>\n",
              "      <td>0</td>\n",
              "      <td>0</td>\n",
              "      <td>0</td>\n",
              "      <td>0</td>\n",
              "      <td>0</td>\n",
              "      <td>0</td>\n",
              "      <td>0</td>\n",
              "      <td>0</td>\n",
              "      <td>0</td>\n",
              "      <td>0</td>\n",
              "    </tr>\n",
              "    <tr>\n",
              "      <th>3</th>\n",
              "      <td>0</td>\n",
              "      <td>0</td>\n",
              "      <td>0</td>\n",
              "      <td>0</td>\n",
              "      <td>0</td>\n",
              "      <td>0</td>\n",
              "      <td>0</td>\n",
              "      <td>0</td>\n",
              "      <td>0</td>\n",
              "      <td>0</td>\n",
              "      <td>...</td>\n",
              "      <td>0</td>\n",
              "      <td>0</td>\n",
              "      <td>0</td>\n",
              "      <td>0</td>\n",
              "      <td>0</td>\n",
              "      <td>0</td>\n",
              "      <td>0</td>\n",
              "      <td>0</td>\n",
              "      <td>0</td>\n",
              "      <td>0</td>\n",
              "    </tr>\n",
              "    <tr>\n",
              "      <th>4</th>\n",
              "      <td>0</td>\n",
              "      <td>0</td>\n",
              "      <td>0</td>\n",
              "      <td>0</td>\n",
              "      <td>0</td>\n",
              "      <td>0</td>\n",
              "      <td>0</td>\n",
              "      <td>0</td>\n",
              "      <td>0</td>\n",
              "      <td>0</td>\n",
              "      <td>...</td>\n",
              "      <td>0</td>\n",
              "      <td>0</td>\n",
              "      <td>0</td>\n",
              "      <td>0</td>\n",
              "      <td>0</td>\n",
              "      <td>0</td>\n",
              "      <td>0</td>\n",
              "      <td>0</td>\n",
              "      <td>0</td>\n",
              "      <td>0</td>\n",
              "    </tr>\n",
              "  </tbody>\n",
              "</table>\n",
              "<p>5 rows × 784 columns</p>\n",
              "</div>\n",
              "      <button class=\"colab-df-convert\" onclick=\"convertToInteractive('df-6f3937e9-28e9-4628-ac1b-a33e460af6d7')\"\n",
              "              title=\"Convert this dataframe to an interactive table.\"\n",
              "              style=\"display:none;\">\n",
              "        \n",
              "  <svg xmlns=\"http://www.w3.org/2000/svg\" height=\"24px\"viewBox=\"0 0 24 24\"\n",
              "       width=\"24px\">\n",
              "    <path d=\"M0 0h24v24H0V0z\" fill=\"none\"/>\n",
              "    <path d=\"M18.56 5.44l.94 2.06.94-2.06 2.06-.94-2.06-.94-.94-2.06-.94 2.06-2.06.94zm-11 1L8.5 8.5l.94-2.06 2.06-.94-2.06-.94L8.5 2.5l-.94 2.06-2.06.94zm10 10l.94 2.06.94-2.06 2.06-.94-2.06-.94-.94-2.06-.94 2.06-2.06.94z\"/><path d=\"M17.41 7.96l-1.37-1.37c-.4-.4-.92-.59-1.43-.59-.52 0-1.04.2-1.43.59L10.3 9.45l-7.72 7.72c-.78.78-.78 2.05 0 2.83L4 21.41c.39.39.9.59 1.41.59.51 0 1.02-.2 1.41-.59l7.78-7.78 2.81-2.81c.8-.78.8-2.07 0-2.86zM5.41 20L4 18.59l7.72-7.72 1.47 1.35L5.41 20z\"/>\n",
              "  </svg>\n",
              "      </button>\n",
              "      \n",
              "  <style>\n",
              "    .colab-df-container {\n",
              "      display:flex;\n",
              "      flex-wrap:wrap;\n",
              "      gap: 12px;\n",
              "    }\n",
              "\n",
              "    .colab-df-convert {\n",
              "      background-color: #E8F0FE;\n",
              "      border: none;\n",
              "      border-radius: 50%;\n",
              "      cursor: pointer;\n",
              "      display: none;\n",
              "      fill: #1967D2;\n",
              "      height: 32px;\n",
              "      padding: 0 0 0 0;\n",
              "      width: 32px;\n",
              "    }\n",
              "\n",
              "    .colab-df-convert:hover {\n",
              "      background-color: #E2EBFA;\n",
              "      box-shadow: 0px 1px 2px rgba(60, 64, 67, 0.3), 0px 1px 3px 1px rgba(60, 64, 67, 0.15);\n",
              "      fill: #174EA6;\n",
              "    }\n",
              "\n",
              "    [theme=dark] .colab-df-convert {\n",
              "      background-color: #3B4455;\n",
              "      fill: #D2E3FC;\n",
              "    }\n",
              "\n",
              "    [theme=dark] .colab-df-convert:hover {\n",
              "      background-color: #434B5C;\n",
              "      box-shadow: 0px 1px 3px 1px rgba(0, 0, 0, 0.15);\n",
              "      filter: drop-shadow(0px 1px 2px rgba(0, 0, 0, 0.3));\n",
              "      fill: #FFFFFF;\n",
              "    }\n",
              "  </style>\n",
              "\n",
              "      <script>\n",
              "        const buttonEl =\n",
              "          document.querySelector('#df-6f3937e9-28e9-4628-ac1b-a33e460af6d7 button.colab-df-convert');\n",
              "        buttonEl.style.display =\n",
              "          google.colab.kernel.accessAllowed ? 'block' : 'none';\n",
              "\n",
              "        async function convertToInteractive(key) {\n",
              "          const element = document.querySelector('#df-6f3937e9-28e9-4628-ac1b-a33e460af6d7');\n",
              "          const dataTable =\n",
              "            await google.colab.kernel.invokeFunction('convertToInteractive',\n",
              "                                                     [key], {});\n",
              "          if (!dataTable) return;\n",
              "\n",
              "          const docLinkHtml = 'Like what you see? Visit the ' +\n",
              "            '<a target=\"_blank\" href=https://colab.research.google.com/notebooks/data_table.ipynb>data table notebook</a>'\n",
              "            + ' to learn more about interactive tables.';\n",
              "          element.innerHTML = '';\n",
              "          dataTable['output_type'] = 'display_data';\n",
              "          await google.colab.output.renderOutput(dataTable, element);\n",
              "          const docLink = document.createElement('div');\n",
              "          docLink.innerHTML = docLinkHtml;\n",
              "          element.appendChild(docLink);\n",
              "        }\n",
              "      </script>\n",
              "    </div>\n",
              "  </div>\n",
              "  "
            ]
          },
          "metadata": {},
          "execution_count": 6
        }
      ]
    },
    {
      "cell_type": "code",
      "source": [
        "y_train = train[\"label\"]\n",
        "\n",
        "# menghilangkan \"label\" columns\n",
        "x_train = train.drop(labels=[\"label\"], axis = 1)"
      ],
      "metadata": {
        "id": "CdHEVdQ840fb"
      },
      "execution_count": 7,
      "outputs": []
    },
    {
      "cell_type": "code",
      "source": [
        "plt.figure(figsize=(15,10))\n",
        "g = sns.countplot(y_train, palette='Spectral')\n",
        "plt.title(\"Number of digit classes\")\n",
        "y_train.value_counts()"
      ],
      "metadata": {
        "colab": {
          "base_uri": "https://localhost:8080/",
          "height": 812
        },
        "id": "J2D434MD44KZ",
        "outputId": "6cdc79f6-8360-4566-ca52-94418cd389a8"
      },
      "execution_count": 8,
      "outputs": [
        {
          "output_type": "execute_result",
          "data": {
            "text/plain": [
              "1    4684\n",
              "7    4401\n",
              "3    4351\n",
              "9    4188\n",
              "2    4177\n",
              "6    4137\n",
              "0    4132\n",
              "4    4072\n",
              "8    4063\n",
              "5    3795\n",
              "Name: label, dtype: int64"
            ]
          },
          "metadata": {},
          "execution_count": 8
        },
        {
          "output_type": "display_data",
          "data": {
            "text/plain": [
              "<Figure size 1080x720 with 1 Axes>"
            ],
            "image/png": "[encoded data removed]"
          },
          "metadata": {
            "needs_background": "light"
          }
        }
      ]
    },
    {
      "cell_type": "code",
      "source": [
        "#standarisasi dengan dibagi oleh 255\n",
        "x_train = x_train / 255.0 \n",
        "test = test / 255.0\n",
        "print(\"x_train shape\", x_train.shape)\n",
        "print(\"test shape\", test.shape)"
      ],
      "metadata": {
        "colab": {
          "base_uri": "https://localhost:8080/"
        },
        "id": "TUqaGLQd47b8",
        "outputId": "6f51247c-af2e-472c-c1d3-69b729c84e45"
      },
      "execution_count": 9,
      "outputs": [
        {
          "output_type": "stream",
          "name": "stdout",
          "text": [
            "x_train shape (42000, 784)\n",
            "test shape (28000, 784)\n"
          ]
        }
      ]
    },
    {
      "cell_type": "code",
      "source": [
        "# Ubah dimensi ke format input model CNN  \n",
        "x_train = x_train.values.reshape(-1, 28, 28, 1)\n",
        "test = test.values.reshape(-1, 28, 28, 1)\n",
        "print(\"x_train shape\", x_train.shape)\n",
        "print(\"test shape\", test.shape)"
      ],
      "metadata": {
        "colab": {
          "base_uri": "https://localhost:8080/"
        },
        "id": "HaPPOkxJ4-kO",
        "outputId": "7f09d797-8590-4bac-96e7-97075be8f2c5"
      },
      "execution_count": 10,
      "outputs": [
        {
          "output_type": "stream",
          "name": "stdout",
          "text": [
            "x_train shape (42000, 28, 28, 1)\n",
            "test shape (28000, 28, 28, 1)\n"
          ]
        }
      ]
    },
    {
      "cell_type": "code",
      "source": [
        "# Label Encoding \n",
        "from keras.utils.np_utils import to_categorical\n",
        "\n",
        "y_train = to_categorical(y_train, num_classes = 10)"
      ],
      "metadata": {
        "id": "30EyQB5k5DTI"
      },
      "execution_count": 11,
      "outputs": []
    },
    {
      "cell_type": "code",
      "source": [
        "from sklearn.model_selection import train_test_split\n",
        "X_train, X_val, Y_train, Y_val = train_test_split(x_train, \n",
        "                                                  y_train, \n",
        "                                                  test_size = 0.1, \n",
        "                                                  random_state = 5)"
      ],
      "metadata": {
        "id": "_GuHnhdW5GSS"
      },
      "execution_count": 12,
      "outputs": []
    },
    {
      "cell_type": "code",
      "source": [
        "print(\"x_train shape\",X_train.shape)\n",
        "print(\"x_test shape\",X_val.shape)\n",
        "print(\"y_train shape\",Y_train.shape)\n",
        "print(\"y_test shape\",Y_val.shape)"
      ],
      "metadata": {
        "colab": {
          "base_uri": "https://localhost:8080/"
        },
        "id": "5_EUHb4Q5Jnn",
        "outputId": "85fcad7e-8015-4388-b993-5a052addcbe0"
      },
      "execution_count": 13,
      "outputs": [
        {
          "output_type": "stream",
          "name": "stdout",
          "text": [
            "x_train shape (37800, 28, 28, 1)\n",
            "x_test shape (4200, 28, 28, 1)\n",
            "y_train shape (37800, 10)\n",
            "y_test shape (4200, 10)\n"
          ]
        }
      ]
    },
    {
      "cell_type": "code",
      "source": [
        "plt.imshow(X_train[1][:,:,0],cmap='gray')\n",
        "plt.show()"
      ],
      "metadata": {
        "colab": {
          "base_uri": "https://localhost:8080/",
          "height": 265
        },
        "id": "JQQps_rF5Mp5",
        "outputId": "69056b81-4e82-47fb-b723-45492d4e7e89"
      },
      "execution_count": 14,
      "outputs": [
        {
          "output_type": "display_data",
          "data": {
            "text/plain": [
              "<Figure size 432x288 with 1 Axes>"
            ],
            "image/png": "[encoded data removed]"
          },
          "metadata": {
            "needs_background": "light"
          }
        }
      ]
    },
    {
      "cell_type": "code",
      "source": [
        "plt.imshow(X_train[0][:,:,0],cmap='gray')\n",
        "plt.show()"
      ],
      "metadata": {
        "colab": {
          "base_uri": "https://localhost:8080/",
          "height": 265
        },
        "id": "7-ovl4ky5PX0",
        "outputId": "eb3b50e0-cd4d-4e4b-c76c-c7a6572fe11d"
      },
      "execution_count": 15,
      "outputs": [
        {
          "output_type": "display_data",
          "data": {
            "text/plain": [
              "<Figure size 432x288 with 1 Axes>"
            ],
            "image/png": "[encoded data removed]"
          },
          "metadata": {
            "needs_background": "light"
          }
        }
      ]
    },
    {
      "cell_type": "code",
      "source": [
        "import os\n",
        "from sklearn.metrics import confusion_matrix\n",
        "import itertools\n",
        "\n",
        "from keras.utils.np_utils import to_categorical # convert to one-hot-encoding\n",
        "from keras.models import Sequential\n",
        "from keras.layers import Dense, Dropout, Flatten, Conv2D, MaxPool2D\n",
        "from tensorflow.keras.optimizers import RMSprop,Adam\n",
        "\n",
        "from keras.preprocessing.image import ImageDataGenerator\n",
        "from keras.callbacks import ReduceLROnPlateau"
      ],
      "metadata": {
        "id": "dr1HjLJh9NA9"
      },
      "execution_count": 16,
      "outputs": []
    },
    {
      "cell_type": "code",
      "source": [
        "model = Sequential()\n",
        "\n",
        "# 3.1 Conv2D layer\n",
        "model.add(Conv2D(filters = 8, \n",
        "                 kernel_size = (5,5),\n",
        "                 padding = 'Same', \n",
        "                 activation ='relu', \n",
        "                 input_shape = (28,28,1)))"
      ],
      "metadata": {
        "id": "ci1vLcJP9XYw"
      },
      "execution_count": 17,
      "outputs": []
    },
    {
      "cell_type": "code",
      "source": [
        "# 3.2 Maxpool2d layer\n",
        "model.add(MaxPool2D(pool_size=(2,2)))\n",
        "model.add(Dropout(0.25))"
      ],
      "metadata": {
        "id": "yzcF2R1I9Yjf"
      },
      "execution_count": 18,
      "outputs": []
    },
    {
      "cell_type": "code",
      "source": [
        "# 3.3 convolutional layer kedua\n",
        "model.add(Conv2D(filters = 16, \n",
        "                 kernel_size = (3,3),\n",
        "                 padding = 'Same', \n",
        "                 activation ='relu'))"
      ],
      "metadata": {
        "id": "gHcPMB4w9df3"
      },
      "execution_count": 19,
      "outputs": []
    },
    {
      "cell_type": "code",
      "source": [
        "# 3.4 Pooling Layer kedua\n",
        "model.add(MaxPool2D(pool_size=(2,2), \n",
        "                    strides=(2,2)))\n",
        "model.add(Dropout(0.25))"
      ],
      "metadata": {
        "id": "D-Qr4g0M9gXH"
      },
      "execution_count": 20,
      "outputs": []
    },
    {
      "cell_type": "code",
      "source": [
        "# 3.3 convolutional layer ketiga\n",
        "model.add(Conv2D(filters = 16, \n",
        "                 kernel_size = (3,3),\n",
        "                 padding = 'Same', \n",
        "                 activation ='relu'))"
      ],
      "metadata": {
        "id": "SdRULNTsW3xQ"
      },
      "execution_count": 21,
      "outputs": []
    },
    {
      "cell_type": "code",
      "source": [
        "# 3.5 Flatten\n",
        "model.add(Flatten())"
      ],
      "metadata": {
        "id": "hp5yJefK9ivN"
      },
      "execution_count": 22,
      "outputs": []
    },
    {
      "cell_type": "code",
      "source": [
        "# 3.6 fully connected\n",
        "model.add(Dense(256, activation = \"relu\"))\n",
        "model.add(Dropout(0.5))\n",
        "model.add(Dense(10, activation = \"softmax\"))"
      ],
      "metadata": {
        "id": "_-n7ew6D9nR_"
      },
      "execution_count": 23,
      "outputs": []
    },
    {
      "cell_type": "code",
      "source": [
        "model.summary()"
      ],
      "metadata": {
        "colab": {
          "base_uri": "https://localhost:8080/"
        },
        "id": "ecDDA-s99oFB",
        "outputId": "622e6ac0-f97b-4d40-aed0-6d0e1611b25f"
      },
      "execution_count": 24,
      "outputs": [
        {
          "output_type": "stream",
          "name": "stdout",
          "text": [
            "Model: \"sequential\"\n",
            "_________________________________________________________________\n",
            " Layer (type)                Output Shape              Param #   \n",
            "=================================================================\n",
            " conv2d (Conv2D)             (None, 28, 28, 8)         208       \n",
            "                                                                 \n",
            " max_pooling2d (MaxPooling2D  (None, 14, 14, 8)        0         \n",
            " )                                                               \n",
            "                                                                 \n",
            " dropout (Dropout)           (None, 14, 14, 8)         0         \n",
            "                                                                 \n",
            " conv2d_1 (Conv2D)           (None, 14, 14, 16)        1168      \n",
            "                                                                 \n",
            " max_pooling2d_1 (MaxPooling  (None, 7, 7, 16)         0         \n",
            " 2D)                                                             \n",
            "                                                                 \n",
            " dropout_1 (Dropout)         (None, 7, 7, 16)          0         \n",
            "                                                                 \n",
            " conv2d_2 (Conv2D)           (None, 7, 7, 16)          2320      \n",
            "                                                                 \n",
            " flatten (Flatten)           (None, 784)               0         \n",
            "                                                                 \n",
            " dense (Dense)               (None, 256)               200960    \n",
            "                                                                 \n",
            " dropout_2 (Dropout)         (None, 256)               0         \n",
            "                                                                 \n",
            " dense_1 (Dense)             (None, 10)                2570      \n",
            "                                                                 \n",
            "=================================================================\n",
            "Total params: 207,226\n",
            "Trainable params: 207,226\n",
            "Non-trainable params: 0\n",
            "_________________________________________________________________\n"
          ]
        }
      ]
    },
    {
      "cell_type": "code",
      "source": [
        "model_viz = tf.keras.utils.plot_model(model,\n",
        "                          to_file='model.png',\n",
        "                          show_shapes=True,\n",
        "                          show_layer_names=True,\n",
        "                          rankdir='TB',\n",
        "                          expand_nested=True,\n",
        "                          dpi=55)\n",
        "model_viz"
      ],
      "metadata": {
        "colab": {
          "base_uri": "https://localhost:8080/",
          "height": 756
        },
        "id": "BSTUQatUXS0Q",
        "outputId": "5580ea8b-0fbc-47ba-8859-aeb1394c03ba"
      },
      "execution_count": 25,
      "outputs": [
        {
          "output_type": "execute_result",
          "data": {
            "text/plain": [
              "<IPython.core.display.Image object>"
            ],
            "image/png": "[encoded data removed]"
          },
          "metadata": {},
          "execution_count": 25
        }
      ]
    },
    {
      "cell_type": "code",
      "source": [
        "# mendefisikan optimizer\n",
        "optimizer = Adam(lr = 0.001,\n",
        "                beta_1 = 0.9,\n",
        "                beta_2 = 0.999)"
      ],
      "metadata": {
        "id": "58btksvN9rWu"
      },
      "execution_count": 26,
      "outputs": []
    },
    {
      "cell_type": "code",
      "source": [
        "# data augmentation\n",
        "# membuat generator\n",
        "\n",
        "datagen = ImageDataGenerator(\n",
        "        featurewise_center = False,  # setel input mean ke 0 di atas dataset\n",
        "        samplewise_center = False,  # atur rata-rata setiap sampel ke 0\n",
        "        featurewise_std_normalization = False,  # membagi input dengan std dari dataset\n",
        "        samplewise_std_normalization = False,  # bagi setiap input dengan stdnya\n",
        "        zca_whitening = False,  # pengurangan dimensi\n",
        "        rotation_range = 15,  # memutar gambar secara acak dalam kisaran 5 derajat\n",
        "        zoom_range = 0.01, # Zoom gambar secara acak 10%\n",
        "        width_shift_range = 0.1,  # menggeser gambar secara acak secara horizontal 10%\n",
        "        height_shift_range = 0.1,  # menggeser gambar secara acak secara vertikal 10%\n",
        "        horizontal_flip = False,  # membalik gambar secara acak\n",
        "        vertical_flip = False)  # membalik gambar secara acak\n",
        "\n",
        "datagen.fit(X_train)"
      ],
      "metadata": {
        "id": "W7pi9Jd39vBq"
      },
      "execution_count": 27,
      "outputs": []
    },
    {
      "cell_type": "code",
      "source": [
        "# membuat dan menyusun model\n",
        "model.compile(optimizer = optimizer, \n",
        "              loss = \"categorical_crossentropy\", \n",
        "              metrics=[\"accuracy\"])\n",
        "\n",
        "# untuk hasil yang lebih baik, tingkatkan epochs\n",
        "epochs = 100\n",
        "batch_size = 250\n",
        "\n",
        "\n",
        "# training\n",
        "history = model.fit_generator(datagen.flow(X_train,\n",
        "                                           Y_train, \n",
        "                                           batch_size = batch_size),\n",
        "                              epochs = epochs, \n",
        "                              validation_data = (X_val,Y_val), \n",
        "                              validation_steps = X_val.shape[0] // batch_size)"
      ],
      "metadata": {
        "colab": {
          "base_uri": "https://localhost:8080/"
        },
        "id": "uOaAPvEh9ygR",
        "outputId": "76c013b4-2e39-4e6e-cb6b-0efb88f249dd"
      },
      "execution_count": 28,
      "outputs": [
        {
          "output_type": "stream",
          "name": "stdout",
          "text": [
            "Epoch 1/100\n",
            "152/152 [==============================] - 31s 199ms/step - loss: 1.1670 - accuracy: 0.6002 - val_loss: 0.2550 - val_accuracy: 0.9305\n",
            "Epoch 2/100\n",
            "152/152 [==============================] - 29s 189ms/step - loss: 0.4792 - accuracy: 0.8438 - val_loss: 0.1348 - val_accuracy: 0.9619\n",
            "Epoch 3/100\n",
            "152/152 [==============================] - 30s 199ms/step - loss: 0.3394 - accuracy: 0.8910 - val_loss: 0.1029 - val_accuracy: 0.9707\n",
            "Epoch 4/100\n",
            "152/152 [==============================] - 29s 189ms/step - loss: 0.2870 - accuracy: 0.9094 - val_loss: 0.0852 - val_accuracy: 0.9750\n",
            "Epoch 5/100\n",
            "152/152 [==============================] - 29s 188ms/step - loss: 0.2437 - accuracy: 0.9237 - val_loss: 0.0740 - val_accuracy: 0.9767\n",
            "Epoch 6/100\n",
            "152/152 [==============================] - 29s 188ms/step - loss: 0.2204 - accuracy: 0.9317 - val_loss: 0.0669 - val_accuracy: 0.9786\n",
            "Epoch 7/100\n",
            "152/152 [==============================] - 29s 189ms/step - loss: 0.2037 - accuracy: 0.9373 - val_loss: 0.0633 - val_accuracy: 0.9807\n",
            "Epoch 8/100\n",
            "152/152 [==============================] - 29s 188ms/step - loss: 0.1903 - accuracy: 0.9405 - val_loss: 0.0582 - val_accuracy: 0.9838\n",
            "Epoch 9/100\n",
            "152/152 [==============================] - 29s 188ms/step - loss: 0.1704 - accuracy: 0.9475 - val_loss: 0.0564 - val_accuracy: 0.9826\n",
            "Epoch 10/100\n",
            "152/152 [==============================] - 29s 188ms/step - loss: 0.1667 - accuracy: 0.9475 - val_loss: 0.0558 - val_accuracy: 0.9848\n",
            "Epoch 11/100\n",
            "152/152 [==============================] - 29s 188ms/step - loss: 0.1617 - accuracy: 0.9514 - val_loss: 0.0519 - val_accuracy: 0.9840\n",
            "Epoch 12/100\n",
            "152/152 [==============================] - 29s 188ms/step - loss: 0.1539 - accuracy: 0.9527 - val_loss: 0.0493 - val_accuracy: 0.9848\n",
            "Epoch 13/100\n",
            "152/152 [==============================] - 29s 188ms/step - loss: 0.1439 - accuracy: 0.9551 - val_loss: 0.0465 - val_accuracy: 0.9871\n",
            "Epoch 14/100\n",
            "152/152 [==============================] - 29s 188ms/step - loss: 0.1389 - accuracy: 0.9576 - val_loss: 0.0469 - val_accuracy: 0.9869\n",
            "Epoch 15/100\n",
            "152/152 [==============================] - 29s 189ms/step - loss: 0.1326 - accuracy: 0.9591 - val_loss: 0.0442 - val_accuracy: 0.9862\n",
            "Epoch 16/100\n",
            "152/152 [==============================] - 29s 188ms/step - loss: 0.1333 - accuracy: 0.9586 - val_loss: 0.0439 - val_accuracy: 0.9871\n",
            "Epoch 17/100\n",
            "152/152 [==============================] - 29s 188ms/step - loss: 0.1297 - accuracy: 0.9599 - val_loss: 0.0435 - val_accuracy: 0.9869\n",
            "Epoch 18/100\n",
            "152/152 [==============================] - 29s 188ms/step - loss: 0.1257 - accuracy: 0.9606 - val_loss: 0.0429 - val_accuracy: 0.9876\n",
            "Epoch 19/100\n",
            "152/152 [==============================] - 29s 188ms/step - loss: 0.1161 - accuracy: 0.9648 - val_loss: 0.0397 - val_accuracy: 0.9874\n",
            "Epoch 20/100\n",
            "152/152 [==============================] - 29s 188ms/step - loss: 0.1203 - accuracy: 0.9640 - val_loss: 0.0393 - val_accuracy: 0.9871\n",
            "Epoch 21/100\n",
            "152/152 [==============================] - 29s 188ms/step - loss: 0.1167 - accuracy: 0.9644 - val_loss: 0.0396 - val_accuracy: 0.9869\n",
            "Epoch 22/100\n",
            "152/152 [==============================] - 29s 188ms/step - loss: 0.1116 - accuracy: 0.9646 - val_loss: 0.0370 - val_accuracy: 0.9888\n",
            "Epoch 23/100\n",
            "152/152 [==============================] - 29s 188ms/step - loss: 0.1105 - accuracy: 0.9661 - val_loss: 0.0369 - val_accuracy: 0.9883\n",
            "Epoch 24/100\n",
            "152/152 [==============================] - 29s 188ms/step - loss: 0.1117 - accuracy: 0.9650 - val_loss: 0.0400 - val_accuracy: 0.9883\n",
            "Epoch 25/100\n",
            "152/152 [==============================] - 29s 188ms/step - loss: 0.1059 - accuracy: 0.9674 - val_loss: 0.0361 - val_accuracy: 0.9879\n",
            "Epoch 26/100\n",
            "152/152 [==============================] - 29s 188ms/step - loss: 0.1059 - accuracy: 0.9671 - val_loss: 0.0374 - val_accuracy: 0.9886\n",
            "Epoch 27/100\n",
            "152/152 [==============================] - 29s 188ms/step - loss: 0.1060 - accuracy: 0.9681 - val_loss: 0.0356 - val_accuracy: 0.9890\n",
            "Epoch 28/100\n",
            "152/152 [==============================] - 29s 188ms/step - loss: 0.0995 - accuracy: 0.9693 - val_loss: 0.0342 - val_accuracy: 0.9890\n",
            "Epoch 29/100\n",
            "152/152 [==============================] - 29s 188ms/step - loss: 0.0940 - accuracy: 0.9709 - val_loss: 0.0352 - val_accuracy: 0.9893\n",
            "Epoch 30/100\n",
            "152/152 [==============================] - 29s 188ms/step - loss: 0.0986 - accuracy: 0.9701 - val_loss: 0.0330 - val_accuracy: 0.9905\n",
            "Epoch 31/100\n",
            "152/152 [==============================] - 29s 188ms/step - loss: 0.0996 - accuracy: 0.9689 - val_loss: 0.0384 - val_accuracy: 0.9886\n",
            "Epoch 32/100\n",
            "152/152 [==============================] - 29s 188ms/step - loss: 0.0910 - accuracy: 0.9704 - val_loss: 0.0343 - val_accuracy: 0.9900\n",
            "Epoch 33/100\n",
            "152/152 [==============================] - 29s 188ms/step - loss: 0.0937 - accuracy: 0.9716 - val_loss: 0.0361 - val_accuracy: 0.9883\n",
            "Epoch 34/100\n",
            "152/152 [==============================] - 29s 189ms/step - loss: 0.0927 - accuracy: 0.9722 - val_loss: 0.0335 - val_accuracy: 0.9893\n",
            "Epoch 35/100\n",
            "152/152 [==============================] - 29s 189ms/step - loss: 0.0919 - accuracy: 0.9726 - val_loss: 0.0326 - val_accuracy: 0.9881\n",
            "Epoch 36/100\n",
            "152/152 [==============================] - 29s 188ms/step - loss: 0.0896 - accuracy: 0.9727 - val_loss: 0.0332 - val_accuracy: 0.9895\n",
            "Epoch 37/100\n",
            "152/152 [==============================] - 29s 190ms/step - loss: 0.0882 - accuracy: 0.9730 - val_loss: 0.0342 - val_accuracy: 0.9898\n",
            "Epoch 38/100\n",
            "152/152 [==============================] - 29s 189ms/step - loss: 0.0869 - accuracy: 0.9736 - val_loss: 0.0340 - val_accuracy: 0.9888\n",
            "Epoch 39/100\n",
            "152/152 [==============================] - 29s 189ms/step - loss: 0.0858 - accuracy: 0.9729 - val_loss: 0.0342 - val_accuracy: 0.9900\n",
            "Epoch 40/100\n",
            "152/152 [==============================] - 41s 272ms/step - loss: 0.0892 - accuracy: 0.9729 - val_loss: 0.0322 - val_accuracy: 0.9910\n",
            "Epoch 41/100\n",
            "152/152 [==============================] - 29s 189ms/step - loss: 0.0867 - accuracy: 0.9735 - val_loss: 0.0305 - val_accuracy: 0.9902\n",
            "Epoch 42/100\n",
            "152/152 [==============================] - 29s 188ms/step - loss: 0.0849 - accuracy: 0.9743 - val_loss: 0.0310 - val_accuracy: 0.9902\n",
            "Epoch 43/100\n",
            "152/152 [==============================] - 29s 193ms/step - loss: 0.0819 - accuracy: 0.9748 - val_loss: 0.0305 - val_accuracy: 0.9895\n",
            "Epoch 44/100\n",
            "152/152 [==============================] - 29s 190ms/step - loss: 0.0819 - accuracy: 0.9748 - val_loss: 0.0316 - val_accuracy: 0.9902\n",
            "Epoch 45/100\n",
            "152/152 [==============================] - 29s 190ms/step - loss: 0.0853 - accuracy: 0.9743 - val_loss: 0.0302 - val_accuracy: 0.9898\n",
            "Epoch 46/100\n",
            "152/152 [==============================] - 30s 197ms/step - loss: 0.0827 - accuracy: 0.9745 - val_loss: 0.0276 - val_accuracy: 0.9910\n",
            "Epoch 47/100\n",
            "152/152 [==============================] - 29s 189ms/step - loss: 0.0783 - accuracy: 0.9759 - val_loss: 0.0317 - val_accuracy: 0.9907\n",
            "Epoch 48/100\n",
            "152/152 [==============================] - 29s 188ms/step - loss: 0.0798 - accuracy: 0.9749 - val_loss: 0.0315 - val_accuracy: 0.9900\n",
            "Epoch 49/100\n",
            "152/152 [==============================] - 29s 189ms/step - loss: 0.0813 - accuracy: 0.9756 - val_loss: 0.0298 - val_accuracy: 0.9907\n",
            "Epoch 50/100\n",
            "152/152 [==============================] - 29s 190ms/step - loss: 0.0763 - accuracy: 0.9770 - val_loss: 0.0279 - val_accuracy: 0.9898\n",
            "Epoch 51/100\n",
            "152/152 [==============================] - 29s 189ms/step - loss: 0.0774 - accuracy: 0.9761 - val_loss: 0.0281 - val_accuracy: 0.9907\n",
            "Epoch 52/100\n",
            "152/152 [==============================] - 29s 189ms/step - loss: 0.0773 - accuracy: 0.9768 - val_loss: 0.0292 - val_accuracy: 0.9895\n",
            "Epoch 53/100\n",
            "152/152 [==============================] - 29s 190ms/step - loss: 0.0777 - accuracy: 0.9760 - val_loss: 0.0316 - val_accuracy: 0.9907\n",
            "Epoch 54/100\n",
            "152/152 [==============================] - 31s 204ms/step - loss: 0.0772 - accuracy: 0.9768 - val_loss: 0.0293 - val_accuracy: 0.9907\n",
            "Epoch 55/100\n",
            "152/152 [==============================] - 29s 191ms/step - loss: 0.0725 - accuracy: 0.9779 - val_loss: 0.0294 - val_accuracy: 0.9902\n",
            "Epoch 56/100\n",
            "152/152 [==============================] - 29s 190ms/step - loss: 0.0716 - accuracy: 0.9781 - val_loss: 0.0281 - val_accuracy: 0.9910\n",
            "Epoch 57/100\n",
            "152/152 [==============================] - 29s 191ms/step - loss: 0.0753 - accuracy: 0.9766 - val_loss: 0.0287 - val_accuracy: 0.9912\n",
            "Epoch 58/100\n",
            "152/152 [==============================] - 29s 192ms/step - loss: 0.0743 - accuracy: 0.9779 - val_loss: 0.0303 - val_accuracy: 0.9900\n",
            "Epoch 59/100\n",
            "152/152 [==============================] - 29s 192ms/step - loss: 0.0742 - accuracy: 0.9775 - val_loss: 0.0300 - val_accuracy: 0.9910\n",
            "Epoch 60/100\n",
            "152/152 [==============================] - 29s 192ms/step - loss: 0.0726 - accuracy: 0.9773 - val_loss: 0.0307 - val_accuracy: 0.9912\n",
            "Epoch 61/100\n",
            "152/152 [==============================] - 29s 190ms/step - loss: 0.0735 - accuracy: 0.9773 - val_loss: 0.0283 - val_accuracy: 0.9905\n",
            "Epoch 62/100\n",
            "152/152 [==============================] - 29s 193ms/step - loss: 0.0747 - accuracy: 0.9764 - val_loss: 0.0342 - val_accuracy: 0.9902\n",
            "Epoch 63/100\n",
            "152/152 [==============================] - 29s 190ms/step - loss: 0.0682 - accuracy: 0.9790 - val_loss: 0.0306 - val_accuracy: 0.9902\n",
            "Epoch 64/100\n",
            "152/152 [==============================] - 29s 192ms/step - loss: 0.0702 - accuracy: 0.9786 - val_loss: 0.0262 - val_accuracy: 0.9921\n",
            "Epoch 65/100\n",
            "152/152 [==============================] - 29s 191ms/step - loss: 0.0710 - accuracy: 0.9777 - val_loss: 0.0307 - val_accuracy: 0.9898\n",
            "Epoch 66/100\n",
            "152/152 [==============================] - 29s 191ms/step - loss: 0.0682 - accuracy: 0.9790 - val_loss: 0.0312 - val_accuracy: 0.9910\n",
            "Epoch 67/100\n",
            "152/152 [==============================] - 30s 194ms/step - loss: 0.0697 - accuracy: 0.9780 - val_loss: 0.0285 - val_accuracy: 0.9917\n",
            "Epoch 68/100\n",
            "152/152 [==============================] - 29s 191ms/step - loss: 0.0737 - accuracy: 0.9777 - val_loss: 0.0306 - val_accuracy: 0.9900\n",
            "Epoch 69/100\n",
            "152/152 [==============================] - 29s 193ms/step - loss: 0.0723 - accuracy: 0.9781 - val_loss: 0.0316 - val_accuracy: 0.9907\n",
            "Epoch 70/100\n",
            "152/152 [==============================] - 29s 192ms/step - loss: 0.0694 - accuracy: 0.9787 - val_loss: 0.0290 - val_accuracy: 0.9910\n",
            "Epoch 71/100\n",
            "152/152 [==============================] - 31s 204ms/step - loss: 0.0672 - accuracy: 0.9791 - val_loss: 0.0278 - val_accuracy: 0.9924\n",
            "Epoch 72/100\n",
            "152/152 [==============================] - 30s 195ms/step - loss: 0.0712 - accuracy: 0.9782 - val_loss: 0.0281 - val_accuracy: 0.9917\n",
            "Epoch 73/100\n",
            "152/152 [==============================] - 30s 194ms/step - loss: 0.0680 - accuracy: 0.9793 - val_loss: 0.0312 - val_accuracy: 0.9905\n",
            "Epoch 74/100\n",
            "152/152 [==============================] - 30s 195ms/step - loss: 0.0660 - accuracy: 0.9800 - val_loss: 0.0279 - val_accuracy: 0.9910\n",
            "Epoch 75/100\n",
            "152/152 [==============================] - 30s 195ms/step - loss: 0.0668 - accuracy: 0.9796 - val_loss: 0.0335 - val_accuracy: 0.9905\n",
            "Epoch 76/100\n",
            "152/152 [==============================] - 29s 193ms/step - loss: 0.0672 - accuracy: 0.9791 - val_loss: 0.0293 - val_accuracy: 0.9919\n",
            "Epoch 77/100\n",
            "152/152 [==============================] - 29s 193ms/step - loss: 0.0665 - accuracy: 0.9805 - val_loss: 0.0275 - val_accuracy: 0.9917\n",
            "Epoch 78/100\n",
            "152/152 [==============================] - 29s 194ms/step - loss: 0.0647 - accuracy: 0.9800 - val_loss: 0.0247 - val_accuracy: 0.9917\n",
            "Epoch 79/100\n",
            "152/152 [==============================] - 29s 193ms/step - loss: 0.0646 - accuracy: 0.9808 - val_loss: 0.0270 - val_accuracy: 0.9919\n",
            "Epoch 80/100\n",
            "152/152 [==============================] - 30s 195ms/step - loss: 0.0692 - accuracy: 0.9782 - val_loss: 0.0275 - val_accuracy: 0.9912\n",
            "Epoch 81/100\n",
            "152/152 [==============================] - 29s 194ms/step - loss: 0.0661 - accuracy: 0.9801 - val_loss: 0.0270 - val_accuracy: 0.9914\n",
            "Epoch 82/100\n",
            "152/152 [==============================] - 30s 196ms/step - loss: 0.0666 - accuracy: 0.9792 - val_loss: 0.0274 - val_accuracy: 0.9910\n",
            "Epoch 83/100\n",
            "152/152 [==============================] - 30s 195ms/step - loss: 0.0675 - accuracy: 0.9794 - val_loss: 0.0259 - val_accuracy: 0.9914\n",
            "Epoch 84/100\n",
            "152/152 [==============================] - 30s 196ms/step - loss: 0.0642 - accuracy: 0.9802 - val_loss: 0.0283 - val_accuracy: 0.9917\n",
            "Epoch 85/100\n",
            "152/152 [==============================] - 30s 194ms/step - loss: 0.0656 - accuracy: 0.9793 - val_loss: 0.0269 - val_accuracy: 0.9907\n",
            "Epoch 86/100\n",
            "152/152 [==============================] - 30s 197ms/step - loss: 0.0665 - accuracy: 0.9803 - val_loss: 0.0283 - val_accuracy: 0.9910\n",
            "Epoch 87/100\n",
            "152/152 [==============================] - 30s 195ms/step - loss: 0.0625 - accuracy: 0.9807 - val_loss: 0.0279 - val_accuracy: 0.9910\n",
            "Epoch 88/100\n",
            "152/152 [==============================] - 30s 195ms/step - loss: 0.0633 - accuracy: 0.9808 - val_loss: 0.0257 - val_accuracy: 0.9921\n",
            "Epoch 89/100\n",
            "152/152 [==============================] - 31s 202ms/step - loss: 0.0601 - accuracy: 0.9818 - val_loss: 0.0254 - val_accuracy: 0.9926\n",
            "Epoch 90/100\n",
            "152/152 [==============================] - 30s 194ms/step - loss: 0.0648 - accuracy: 0.9799 - val_loss: 0.0281 - val_accuracy: 0.9921\n",
            "Epoch 91/100\n",
            "152/152 [==============================] - 30s 194ms/step - loss: 0.0623 - accuracy: 0.9811 - val_loss: 0.0275 - val_accuracy: 0.9910\n",
            "Epoch 92/100\n",
            "152/152 [==============================] - 30s 197ms/step - loss: 0.0626 - accuracy: 0.9801 - val_loss: 0.0269 - val_accuracy: 0.9917\n",
            "Epoch 93/100\n",
            "152/152 [==============================] - 29s 193ms/step - loss: 0.0618 - accuracy: 0.9810 - val_loss: 0.0281 - val_accuracy: 0.9910\n",
            "Epoch 94/100\n",
            "152/152 [==============================] - 30s 196ms/step - loss: 0.0614 - accuracy: 0.9807 - val_loss: 0.0222 - val_accuracy: 0.9929\n",
            "Epoch 95/100\n",
            "152/152 [==============================] - 30s 195ms/step - loss: 0.0615 - accuracy: 0.9809 - val_loss: 0.0306 - val_accuracy: 0.9910\n",
            "Epoch 96/100\n",
            "152/152 [==============================] - 30s 194ms/step - loss: 0.0648 - accuracy: 0.9808 - val_loss: 0.0284 - val_accuracy: 0.9910\n",
            "Epoch 97/100\n",
            "152/152 [==============================] - 30s 195ms/step - loss: 0.0615 - accuracy: 0.9816 - val_loss: 0.0279 - val_accuracy: 0.9919\n",
            "Epoch 98/100\n",
            "152/152 [==============================] - 30s 195ms/step - loss: 0.0628 - accuracy: 0.9801 - val_loss: 0.0292 - val_accuracy: 0.9917\n",
            "Epoch 99/100\n",
            "152/152 [==============================] - 30s 195ms/step - loss: 0.0582 - accuracy: 0.9819 - val_loss: 0.0301 - val_accuracy: 0.9910\n",
            "Epoch 100/100\n",
            "152/152 [==============================] - 30s 194ms/step - loss: 0.0617 - accuracy: 0.9806 - val_loss: 0.0292 - val_accuracy: 0.9912\n"
          ]
        }
      ]
    },
    {
      "cell_type": "code",
      "source": [
        "# plot 1: Loss\n",
        "fig, ax = plt.subplots(2,1, figsize=(15, 10))\n",
        "ax[0].plot(history.history['loss'], color='b', label=\"Training loss\")\n",
        "ax[0].plot(history.history['val_loss'], color='r', label=\"validation loss\",axes =ax[0])\n",
        "legend = ax[0].legend(loc='best', shadow=True)\n",
        "\n",
        "# plot 2: accuracy\n",
        "ax[1].plot(history.history['accuracy'], color='b', label=\"Training accuracy\")\n",
        "ax[1].plot(history.history['val_accuracy'], color='r',label=\"Validation accuracy\")\n",
        "legend = ax[1].legend(loc='best', shadow=True)"
      ],
      "metadata": {
        "colab": {
          "base_uri": "https://localhost:8080/",
          "height": 592
        },
        "id": "CA2rPcUGLmBX",
        "outputId": "9d9d613d-27da-43f2-bb10-1e62d0ec576d"
      },
      "execution_count": 29,
      "outputs": [
        {
          "output_type": "display_data",
          "data": {
            "text/plain": [
              "<Figure size 1080x720 with 2 Axes>"
            ],
            "image/png": "[encoded data removed]"
          },
          "metadata": {
            "needs_background": "light"
          }
        }
      ]
    },
    {
      "cell_type": "code",
      "source": [
        "history.history['loss']"
      ],
      "metadata": {
        "colab": {
          "base_uri": "https://localhost:8080/"
        },
        "id": "ZqMRgEilM7V_",
        "outputId": "96fa9229-d2c1-44ff-e658-227a36d0887d"
      },
      "execution_count": 30,
      "outputs": [
        {
          "output_type": "execute_result",
          "data": {
            "text/plain": [
              "[1.167003870010376,\n",
              " 0.4791601002216339,\n",
              " 0.3394384980201721,\n",
              " 0.2870262563228607,\n",
              " 0.24371646344661713,\n",
              " 0.2204466313123703,\n",
              " 0.20370367169380188,\n",
              " 0.19031834602355957,\n",
              " 0.17042741179466248,\n",
              " 0.1667209416627884,\n",
              " 0.16171057522296906,\n",
              " 0.15393105149269104,\n",
              " 0.14385153353214264,\n",
              " 0.1389196515083313,\n",
              " 0.1325538605451584,\n",
              " 0.13325762748718262,\n",
              " 0.12969820201396942,\n",
              " 0.12571516633033752,\n",
              " 0.1161193922162056,\n",
              " 0.12026696652173996,\n",
              " 0.11665043979883194,\n",
              " 0.11157539486885071,\n",
              " 0.11048296093940735,\n",
              " 0.11170317232608795,\n",
              " 0.10587579756975174,\n",
              " 0.10592576861381531,\n",
              " 0.10602486878633499,\n",
              " 0.09954722970724106,\n",
              " 0.09398472309112549,\n",
              " 0.09856615215539932,\n",
              " 0.09959819912910461,\n",
              " 0.09097842872142792,\n",
              " 0.09369128942489624,\n",
              " 0.09274483472108841,\n",
              " 0.09192780405282974,\n",
              " 0.08960093557834625,\n",
              " 0.0881534069776535,\n",
              " 0.08689974248409271,\n",
              " 0.08584606647491455,\n",
              " 0.08920573443174362,\n",
              " 0.08670368790626526,\n",
              " 0.08490950614213943,\n",
              " 0.08192963153123856,\n",
              " 0.08192217350006104,\n",
              " 0.08529328554868698,\n",
              " 0.08265333622694016,\n",
              " 0.07827747613191605,\n",
              " 0.07978679239749908,\n",
              " 0.08133590966463089,\n",
              " 0.07629954814910889,\n",
              " 0.07737168669700623,\n",
              " 0.07733356952667236,\n",
              " 0.07766792178153992,\n",
              " 0.07723308354616165,\n",
              " 0.07253526896238327,\n",
              " 0.07159249484539032,\n",
              " 0.0752888023853302,\n",
              " 0.07426758110523224,\n",
              " 0.07417255640029907,\n",
              " 0.07256095111370087,\n",
              " 0.07348868250846863,\n",
              " 0.07473592460155487,\n",
              " 0.06821651756763458,\n",
              " 0.07019665092229843,\n",
              " 0.07095340639352798,\n",
              " 0.0682292953133583,\n",
              " 0.06974431872367859,\n",
              " 0.07374781370162964,\n",
              " 0.07227973639965057,\n",
              " 0.06944553554058075,\n",
              " 0.06715260446071625,\n",
              " 0.07115176320075989,\n",
              " 0.06797771155834198,\n",
              " 0.06600430607795715,\n",
              " 0.0667966976761818,\n",
              " 0.06723352521657944,\n",
              " 0.06649992614984512,\n",
              " 0.06467392295598984,\n",
              " 0.06458558887243271,\n",
              " 0.06922866404056549,\n",
              " 0.06610853970050812,\n",
              " 0.06662552058696747,\n",
              " 0.06748412549495697,\n",
              " 0.0642157793045044,\n",
              " 0.06558286398649216,\n",
              " 0.06648670881986618,\n",
              " 0.06254236400127411,\n",
              " 0.06329263001680374,\n",
              " 0.060135263949632645,\n",
              " 0.06481216102838516,\n",
              " 0.06231864541769028,\n",
              " 0.06262590736150742,\n",
              " 0.061795447021722794,\n",
              " 0.06135445833206177,\n",
              " 0.06146879494190216,\n",
              " 0.06481924653053284,\n",
              " 0.0615331269800663,\n",
              " 0.06276682764291763,\n",
              " 0.05823061242699623,\n",
              " 0.061714060604572296]"
            ]
          },
          "metadata": {},
          "execution_count": 30
        }
      ]
    },
    {
      "cell_type": "code",
      "source": [
        "history.history['accuracy']"
      ],
      "metadata": {
        "colab": {
          "base_uri": "https://localhost:8080/"
        },
        "id": "Dw10Tw1jN0rf",
        "outputId": "9134de82-6049-4952-e3bb-19acc293b22d"
      },
      "execution_count": 31,
      "outputs": [
        {
          "output_type": "execute_result",
          "data": {
            "text/plain": [
              "[0.6002116203308105,\n",
              " 0.8438095450401306,\n",
              " 0.8909524083137512,\n",
              " 0.9093915224075317,\n",
              " 0.9236508011817932,\n",
              " 0.9316931366920471,\n",
              " 0.937328040599823,\n",
              " 0.9405291080474854,\n",
              " 0.9474867582321167,\n",
              " 0.9475396871566772,\n",
              " 0.9514285922050476,\n",
              " 0.9527248740196228,\n",
              " 0.9550793766975403,\n",
              " 0.9575926065444946,\n",
              " 0.9591005444526672,\n",
              " 0.9585978984832764,\n",
              " 0.9598677158355713,\n",
              " 0.9605555534362793,\n",
              " 0.9647619128227234,\n",
              " 0.9639682769775391,\n",
              " 0.9643915295600891,\n",
              " 0.9645767211914062,\n",
              " 0.9660581946372986,\n",
              " 0.9649999737739563,\n",
              " 0.9674338698387146,\n",
              " 0.9671428799629211,\n",
              " 0.9681481719017029,\n",
              " 0.9692592620849609,\n",
              " 0.9708994626998901,\n",
              " 0.9700528979301453,\n",
              " 0.9689153432846069,\n",
              " 0.9704497456550598,\n",
              " 0.9715873003005981,\n",
              " 0.9722486734390259,\n",
              " 0.9726190567016602,\n",
              " 0.9727248549461365,\n",
              " 0.9730423092842102,\n",
              " 0.9735714197158813,\n",
              " 0.9728835821151733,\n",
              " 0.9728571176528931,\n",
              " 0.973465621471405,\n",
              " 0.9743386507034302,\n",
              " 0.9747619032859802,\n",
              " 0.974841296672821,\n",
              " 0.9742857217788696,\n",
              " 0.974497377872467,\n",
              " 0.9758729934692383,\n",
              " 0.9749470949172974,\n",
              " 0.9756084680557251,\n",
              " 0.9770106077194214,\n",
              " 0.9760846495628357,\n",
              " 0.9767724871635437,\n",
              " 0.9759788513183594,\n",
              " 0.976798951625824,\n",
              " 0.9779365062713623,\n",
              " 0.9781216979026794,\n",
              " 0.9766402244567871,\n",
              " 0.977910041809082,\n",
              " 0.9774603247642517,\n",
              " 0.9773280620574951,\n",
              " 0.9773280620574951,\n",
              " 0.9764021039009094,\n",
              " 0.9789947271347046,\n",
              " 0.9785714149475098,\n",
              " 0.9776719808578491,\n",
              " 0.9790211915969849,\n",
              " 0.9779894351959229,\n",
              " 0.9777248501777649,\n",
              " 0.9781216979026794,\n",
              " 0.9787301421165466,\n",
              " 0.9791005253791809,\n",
              " 0.9782274961471558,\n",
              " 0.9793121814727783,\n",
              " 0.979973554611206,\n",
              " 0.9796031713485718,\n",
              " 0.9791005253791809,\n",
              " 0.9804762005805969,\n",
              " 0.9800264835357666,\n",
              " 0.9808465838432312,\n",
              " 0.97817462682724,\n",
              " 0.9801322817802429,\n",
              " 0.9791799187660217,\n",
              " 0.9794179797172546,\n",
              " 0.9801852107048035,\n",
              " 0.9793386459350586,\n",
              " 0.9802910089492798,\n",
              " 0.9806878566741943,\n",
              " 0.9807671904563904,\n",
              " 0.9817724823951721,\n",
              " 0.9799470901489258,\n",
              " 0.9811111092567444,\n",
              " 0.9801058173179626,\n",
              " 0.9809788465499878,\n",
              " 0.9806878566741943,\n",
              " 0.980899453163147,\n",
              " 0.9808201193809509,\n",
              " 0.9815608263015747,\n",
              " 0.9801322817802429,\n",
              " 0.9818782806396484,\n",
              " 0.980555534362793]"
            ]
          },
          "metadata": {},
          "execution_count": 31
        }
      ]
    },
    {
      "cell_type": "code",
      "source": [
        "model.evaluate(x_train, y_train, verbose=2)"
      ],
      "metadata": {
        "colab": {
          "base_uri": "https://localhost:8080/"
        },
        "id": "H8V7aKNKQsuI",
        "outputId": "a49b205a-3a6a-4bf3-c785-699525ef347a"
      },
      "execution_count": 32,
      "outputs": [
        {
          "output_type": "stream",
          "name": "stdout",
          "text": [
            "1313/1313 - 14s - loss: 0.0163 - accuracy: 0.9945 - 14s/epoch - 10ms/step\n"
          ]
        },
        {
          "output_type": "execute_result",
          "data": {
            "text/plain": [
              "[0.016264379024505615, 0.9944761991500854]"
            ]
          },
          "metadata": {},
          "execution_count": 32
        }
      ]
    },
    {
      "cell_type": "code",
      "source": [
        "# confusion matrix\n",
        "import seaborn as sns\n",
        "# Memprediksi nilai dari dataset validasi\n",
        "Y_pred = model.predict(X_val)\n",
        "\n",
        "# Ubah kelas prediksi menjadi satu vektor panas\n",
        "Y_pred_classes = np.argmax(Y_pred,axis = 1) \n",
        "\n",
        "# Ubah pengamatan validasi menjadi satu vektor panas\n",
        "Y_true = np.argmax(Y_val,axis = 1) \n",
        "\n",
        "# menghitung matriks kebingungan\n",
        "confusion_mtx = confusion_matrix(Y_true, Y_pred_classes) \n",
        "\n",
        "# plot matriks kebingungan\n",
        "f,ax = plt.subplots(figsize=(12, 12))\n",
        "sns.heatmap(confusion_mtx, annot=True, \n",
        "            linewidths=0.01,cmap=\"coolwarm\",\n",
        "            linecolor=\"white\", \n",
        "            fmt= '.1f',ax=ax)\n",
        "\n",
        "plt.xlabel(\"Predicted Label\")\n",
        "plt.ylabel(\"True Label\")\n",
        "plt.title(\"Confusion Matrix\")\n",
        "plt.show()"
      ],
      "metadata": {
        "colab": {
          "base_uri": "https://localhost:8080/",
          "height": 730
        },
        "id": "ZN8owFeSLsR1",
        "outputId": "4174153d-75d3-4062-be51-713e69e323c7"
      },
      "execution_count": 33,
      "outputs": [
        {
          "output_type": "display_data",
          "data": {
            "text/plain": [
              "<Figure size 864x864 with 2 Axes>"
            ],
            "image/png": "[encoded data removed]"
          },
          "metadata": {
            "needs_background": "light"
          }
        }
      ]
    },
    {
      "cell_type": "code",
      "source": [
        "y_pred = model.predict(X_val)\n",
        "X_test__ = X_val.reshape(X_val.shape[0], 28, 28)\n",
        "\n",
        "fig, axis = plt.subplots(4, 4, figsize=(12, 14))\n",
        "for i, ax in enumerate(axis.flat):\n",
        "    ax.imshow(X_test__[i], cmap='binary')\n",
        "    ax.set(title = f\"Real Number is {Y_val[i].argmax()}\\nPredict Number is {y_pred[i].argmax()}\");"
      ],
      "metadata": {
        "colab": {
          "base_uri": "https://localhost:8080/",
          "height": 820
        },
        "id": "lux2xlPHLx01",
        "outputId": "695494ea-efcc-443b-835e-1783f3f70678"
      },
      "execution_count": 34,
      "outputs": [
        {
          "output_type": "display_data",
          "data": {
            "text/plain": [
              "<Figure size 864x1008 with 16 Axes>"
            ],
            "image/png": "[encoded data removed]"
          },
          "metadata": {
            "needs_background": "light"
          }
        }
      ]
    },
    {
      "cell_type": "code",
      "source": [
        "test.shape"
      ],
      "metadata": {
        "colab": {
          "base_uri": "https://localhost:8080/"
        },
        "id": "0QLSAbVOL579",
        "outputId": "158801ef-119e-40f1-b5d9-ba5a83d04fb5"
      },
      "execution_count": 35,
      "outputs": [
        {
          "output_type": "execute_result",
          "data": {
            "text/plain": [
              "(28000, 28, 28, 1)"
            ]
          },
          "metadata": {},
          "execution_count": 35
        }
      ]
    },
    {
      "cell_type": "code",
      "source": [
        "results = model.predict(test)\n",
        "results = np.argmax(results,axis = 1)\n",
        "submission = pd.read_csv('/content/drive/MyDrive/Program/Digit/sample_submission.csv')"
      ],
      "metadata": {
        "id": "M6XalL0GL_AV"
      },
      "execution_count": 36,
      "outputs": []
    },
    {
      "cell_type": "code",
      "source": [
        "submission['Label'] = results\n",
        "submission.to_csv('submission.csv', header=True, index=False)"
      ],
      "metadata": {
        "id": "cHsoyqBwMOrL"
      },
      "execution_count": 37,
      "outputs": []
    }
  ]
}