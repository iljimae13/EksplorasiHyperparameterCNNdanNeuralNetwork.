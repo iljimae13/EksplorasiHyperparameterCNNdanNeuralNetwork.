{
  "nbformat": 4,
  "nbformat_minor": 0,
  "metadata": {
    "colab": {
      "name": "TugasRegresi.ipynb",
      "provenance": [],
      "mount_file_id": "1cL758UP474vPi2EMCDtksIl3DXvb941b",
      "authorship_tag": "ABX9TyMkYOEMsqJRPbZST0gU+Ny1",
      "include_colab_link": true
    },
    "kernelspec": {
      "name": "python3",
      "display_name": "Python 3"
    },
    "language_info": {
      "name": "python"
    }
  },
  "cells": [
    {
      "cell_type": "markdown",
      "metadata": {
        "id": "view-in-github",
        "colab_type": "text"
      },
      "source": [
        "<a href=\"https://colab.research.google.com/github/iljimae13/EksplorasiHyperparameterCNNdanNeuralNetwork./blob/main/TugasRegresi.ipynb\" target=\"_parent\"><img src=\"https://colab.research.google.com/assets/colab-badge.svg\" alt=\"Open In Colab\"/></a>"
      ]
    },
    {
      "cell_type": "markdown",
      "source": [
        "Load data di Googgle Drive"
      ],
      "metadata": {
        "id": "mGG-QQx6fjp9"
      }
    },
    {
      "cell_type": "code",
      "execution_count": 1,
      "metadata": {
        "colab": {
          "base_uri": "https://localhost:8080/"
        },
        "id": "WbfKNTdOCY_5",
        "outputId": "b756fda1-8b72-48ab-cef5-788f81a3f8e9"
      },
      "outputs": [
        {
          "output_type": "stream",
          "name": "stdout",
          "text": [
            "Mounted at /content/drive\n"
          ]
        }
      ],
      "source": [
        "from google.colab import drive\n",
        "drive.mount('/content/drive')"
      ]
    },
    {
      "cell_type": "markdown",
      "source": [
        "Import library Pandas\n",
        "Library Pandas biasa digunakan untuk membuat tabel, mengubah dimensi data, mengecek data, dan lain sebagainya"
      ],
      "metadata": {
        "id": "f11E18k3f0VK"
      }
    },
    {
      "cell_type": "code",
      "source": [
        "import pandas as pd\n",
        "data = pd.read_csv(\"/content/drive/MyDrive/Program/Digit/housing.csv\")\n",
        "data"
      ],
      "metadata": {
        "colab": {
          "base_uri": "https://localhost:8080/",
          "height": 423
        },
        "id": "_qgeQkWRFMjm",
        "outputId": "e27daf36-9ea9-474d-b84b-9493b74574a7"
      },
      "execution_count": 2,
      "outputs": [
        {
          "output_type": "execute_result",
          "data": {
            "text/plain": [
              "     0.00632  18.00   2.310  0  0.5380  6.5750  65.20  4.0900   1  296.0  15.30 396.90   4.98  24.00\n",
              "0     0.02731   0.00   7.070  0  0.4690  6.4210  78...                                              \n",
              "1     0.02729   0.00   7.070  0  0.4690  7.1850  61...                                              \n",
              "2     0.03237   0.00   2.180  0  0.4580  6.9980  45...                                              \n",
              "3     0.06905   0.00   2.180  0  0.4580  7.1470  54...                                              \n",
              "4     0.02985   0.00   2.180  0  0.4580  6.4300  58...                                              \n",
              "..                                                 ...                                              \n",
              "500   0.06263   0.00  11.930  0  0.5730  6.5930  69...                                              \n",
              "501   0.04527   0.00  11.930  0  0.5730  6.1200  76...                                              \n",
              "502   0.06076   0.00  11.930  0  0.5730  6.9760  91...                                              \n",
              "503   0.10959   0.00  11.930  0  0.5730  6.7940  89...                                              \n",
              "504   0.04741   0.00  11.930  0  0.5730  6.0300  80...                                              \n",
              "\n",
              "[505 rows x 1 columns]"
            ],
            "text/html": [
              "\n",
              "  <div id=\"df-7421b3c7-45f1-448c-a2f0-26d211129010\">\n",
              "    <div class=\"colab-df-container\">\n",
              "      <div>\n",
              "<style scoped>\n",
              "    .dataframe tbody tr th:only-of-type {\n",
              "        vertical-align: middle;\n",
              "    }\n",
              "\n",
              "    .dataframe tbody tr th {\n",
              "        vertical-align: top;\n",
              "    }\n",
              "\n",
              "    .dataframe thead th {\n",
              "        text-align: right;\n",
              "    }\n",
              "</style>\n",
              "<table border=\"1\" class=\"dataframe\">\n",
              "  <thead>\n",
              "    <tr style=\"text-align: right;\">\n",
              "      <th></th>\n",
              "      <th>0.00632  18.00   2.310  0  0.5380  6.5750  65.20  4.0900   1  296.0  15.30 396.90   4.98  24.00</th>\n",
              "    </tr>\n",
              "  </thead>\n",
              "  <tbody>\n",
              "    <tr>\n",
              "      <th>0</th>\n",
              "      <td>0.02731   0.00   7.070  0  0.4690  6.4210  78...</td>\n",
              "    </tr>\n",
              "    <tr>\n",
              "      <th>1</th>\n",
              "      <td>0.02729   0.00   7.070  0  0.4690  7.1850  61...</td>\n",
              "    </tr>\n",
              "    <tr>\n",
              "      <th>2</th>\n",
              "      <td>0.03237   0.00   2.180  0  0.4580  6.9980  45...</td>\n",
              "    </tr>\n",
              "    <tr>\n",
              "      <th>3</th>\n",
              "      <td>0.06905   0.00   2.180  0  0.4580  7.1470  54...</td>\n",
              "    </tr>\n",
              "    <tr>\n",
              "      <th>4</th>\n",
              "      <td>0.02985   0.00   2.180  0  0.4580  6.4300  58...</td>\n",
              "    </tr>\n",
              "    <tr>\n",
              "      <th>...</th>\n",
              "      <td>...</td>\n",
              "    </tr>\n",
              "    <tr>\n",
              "      <th>500</th>\n",
              "      <td>0.06263   0.00  11.930  0  0.5730  6.5930  69...</td>\n",
              "    </tr>\n",
              "    <tr>\n",
              "      <th>501</th>\n",
              "      <td>0.04527   0.00  11.930  0  0.5730  6.1200  76...</td>\n",
              "    </tr>\n",
              "    <tr>\n",
              "      <th>502</th>\n",
              "      <td>0.06076   0.00  11.930  0  0.5730  6.9760  91...</td>\n",
              "    </tr>\n",
              "    <tr>\n",
              "      <th>503</th>\n",
              "      <td>0.10959   0.00  11.930  0  0.5730  6.7940  89...</td>\n",
              "    </tr>\n",
              "    <tr>\n",
              "      <th>504</th>\n",
              "      <td>0.04741   0.00  11.930  0  0.5730  6.0300  80...</td>\n",
              "    </tr>\n",
              "  </tbody>\n",
              "</table>\n",
              "<p>505 rows × 1 columns</p>\n",
              "</div>\n",
              "      <button class=\"colab-df-convert\" onclick=\"convertToInteractive('df-7421b3c7-45f1-448c-a2f0-26d211129010')\"\n",
              "              title=\"Convert this dataframe to an interactive table.\"\n",
              "              style=\"display:none;\">\n",
              "        \n",
              "  <svg xmlns=\"http://www.w3.org/2000/svg\" height=\"24px\"viewBox=\"0 0 24 24\"\n",
              "       width=\"24px\">\n",
              "    <path d=\"M0 0h24v24H0V0z\" fill=\"none\"/>\n",
              "    <path d=\"M18.56 5.44l.94 2.06.94-2.06 2.06-.94-2.06-.94-.94-2.06-.94 2.06-2.06.94zm-11 1L8.5 8.5l.94-2.06 2.06-.94-2.06-.94L8.5 2.5l-.94 2.06-2.06.94zm10 10l.94 2.06.94-2.06 2.06-.94-2.06-.94-.94-2.06-.94 2.06-2.06.94z\"/><path d=\"M17.41 7.96l-1.37-1.37c-.4-.4-.92-.59-1.43-.59-.52 0-1.04.2-1.43.59L10.3 9.45l-7.72 7.72c-.78.78-.78 2.05 0 2.83L4 21.41c.39.39.9.59 1.41.59.51 0 1.02-.2 1.41-.59l7.78-7.78 2.81-2.81c.8-.78.8-2.07 0-2.86zM5.41 20L4 18.59l7.72-7.72 1.47 1.35L5.41 20z\"/>\n",
              "  </svg>\n",
              "      </button>\n",
              "      \n",
              "  <style>\n",
              "    .colab-df-container {\n",
              "      display:flex;\n",
              "      flex-wrap:wrap;\n",
              "      gap: 12px;\n",
              "    }\n",
              "\n",
              "    .colab-df-convert {\n",
              "      background-color: #E8F0FE;\n",
              "      border: none;\n",
              "      border-radius: 50%;\n",
              "      cursor: pointer;\n",
              "      display: none;\n",
              "      fill: #1967D2;\n",
              "      height: 32px;\n",
              "      padding: 0 0 0 0;\n",
              "      width: 32px;\n",
              "    }\n",
              "\n",
              "    .colab-df-convert:hover {\n",
              "      background-color: #E2EBFA;\n",
              "      box-shadow: 0px 1px 2px rgba(60, 64, 67, 0.3), 0px 1px 3px 1px rgba(60, 64, 67, 0.15);\n",
              "      fill: #174EA6;\n",
              "    }\n",
              "\n",
              "    [theme=dark] .colab-df-convert {\n",
              "      background-color: #3B4455;\n",
              "      fill: #D2E3FC;\n",
              "    }\n",
              "\n",
              "    [theme=dark] .colab-df-convert:hover {\n",
              "      background-color: #434B5C;\n",
              "      box-shadow: 0px 1px 3px 1px rgba(0, 0, 0, 0.15);\n",
              "      filter: drop-shadow(0px 1px 2px rgba(0, 0, 0, 0.3));\n",
              "      fill: #FFFFFF;\n",
              "    }\n",
              "  </style>\n",
              "\n",
              "      <script>\n",
              "        const buttonEl =\n",
              "          document.querySelector('#df-7421b3c7-45f1-448c-a2f0-26d211129010 button.colab-df-convert');\n",
              "        buttonEl.style.display =\n",
              "          google.colab.kernel.accessAllowed ? 'block' : 'none';\n",
              "\n",
              "        async function convertToInteractive(key) {\n",
              "          const element = document.querySelector('#df-7421b3c7-45f1-448c-a2f0-26d211129010');\n",
              "          const dataTable =\n",
              "            await google.colab.kernel.invokeFunction('convertToInteractive',\n",
              "                                                     [key], {});\n",
              "          if (!dataTable) return;\n",
              "\n",
              "          const docLinkHtml = 'Like what you see? Visit the ' +\n",
              "            '<a target=\"_blank\" href=https://colab.research.google.com/notebooks/data_table.ipynb>data table notebook</a>'\n",
              "            + ' to learn more about interactive tables.';\n",
              "          element.innerHTML = '';\n",
              "          dataTable['output_type'] = 'display_data';\n",
              "          await google.colab.output.renderOutput(dataTable, element);\n",
              "          const docLink = document.createElement('div');\n",
              "          docLink.innerHTML = docLinkHtml;\n",
              "          element.appendChild(docLink);\n",
              "        }\n",
              "      </script>\n",
              "    </div>\n",
              "  </div>\n",
              "  "
            ]
          },
          "metadata": {},
          "execution_count": 2
        }
      ]
    },
    {
      "cell_type": "code",
      "source": [
        "import warnings\n",
        "warnings.filterwarnings('ignore')"
      ],
      "metadata": {
        "id": "rjIGB-10F3rE"
      },
      "execution_count": 3,
      "outputs": []
    },
    {
      "cell_type": "code",
      "source": [
        "#Load data ke dalam dataframe\n",
        "column_names=['CRIM', 'ZN', 'INDUS', 'CHAS', 'NOX', 'RM', 'AGE', 'DIS', 'RAD', 'TAX', 'PTRATIO', 'B', 'LSTAT', 'MEDV']\n",
        "df = pd.read_csv('/content/drive/MyDrive/Program/Digit/housing.csv',names=column_names, header=None, delim_whitespace=True)\n",
        "df.head()"
      ],
      "metadata": {
        "colab": {
          "base_uri": "https://localhost:8080/",
          "height": 206
        },
        "id": "ZBH9ucOAF-M5",
        "outputId": "c9f123c4-359a-48a4-d253-fe9e86745e6a"
      },
      "execution_count": 5,
      "outputs": [
        {
          "output_type": "execute_result",
          "data": {
            "text/plain": [
              "      CRIM    ZN  INDUS  CHAS    NOX     RM   AGE     DIS  RAD    TAX  \\\n",
              "0  0.00632  18.0   2.31     0  0.538  6.575  65.2  4.0900    1  296.0   \n",
              "1  0.02731   0.0   7.07     0  0.469  6.421  78.9  4.9671    2  242.0   \n",
              "2  0.02729   0.0   7.07     0  0.469  7.185  61.1  4.9671    2  242.0   \n",
              "3  0.03237   0.0   2.18     0  0.458  6.998  45.8  6.0622    3  222.0   \n",
              "4  0.06905   0.0   2.18     0  0.458  7.147  54.2  6.0622    3  222.0   \n",
              "\n",
              "   PTRATIO       B  LSTAT  MEDV  \n",
              "0     15.3  396.90   4.98  24.0  \n",
              "1     17.8  396.90   9.14  21.6  \n",
              "2     17.8  392.83   4.03  34.7  \n",
              "3     18.7  394.63   2.94  33.4  \n",
              "4     18.7  396.90   5.33  36.2  "
            ],
            "text/html": [
              "\n",
              "  <div id=\"df-f4c010bb-a3a9-4f36-97b9-c8f774dded76\">\n",
              "    <div class=\"colab-df-container\">\n",
              "      <div>\n",
              "<style scoped>\n",
              "    .dataframe tbody tr th:only-of-type {\n",
              "        vertical-align: middle;\n",
              "    }\n",
              "\n",
              "    .dataframe tbody tr th {\n",
              "        vertical-align: top;\n",
              "    }\n",
              "\n",
              "    .dataframe thead th {\n",
              "        text-align: right;\n",
              "    }\n",
              "</style>\n",
              "<table border=\"1\" class=\"dataframe\">\n",
              "  <thead>\n",
              "    <tr style=\"text-align: right;\">\n",
              "      <th></th>\n",
              "      <th>CRIM</th>\n",
              "      <th>ZN</th>\n",
              "      <th>INDUS</th>\n",
              "      <th>CHAS</th>\n",
              "      <th>NOX</th>\n",
              "      <th>RM</th>\n",
              "      <th>AGE</th>\n",
              "      <th>DIS</th>\n",
              "      <th>RAD</th>\n",
              "      <th>TAX</th>\n",
              "      <th>PTRATIO</th>\n",
              "      <th>B</th>\n",
              "      <th>LSTAT</th>\n",
              "      <th>MEDV</th>\n",
              "    </tr>\n",
              "  </thead>\n",
              "  <tbody>\n",
              "    <tr>\n",
              "      <th>0</th>\n",
              "      <td>0.00632</td>\n",
              "      <td>18.0</td>\n",
              "      <td>2.31</td>\n",
              "      <td>0</td>\n",
              "      <td>0.538</td>\n",
              "      <td>6.575</td>\n",
              "      <td>65.2</td>\n",
              "      <td>4.0900</td>\n",
              "      <td>1</td>\n",
              "      <td>296.0</td>\n",
              "      <td>15.3</td>\n",
              "      <td>396.90</td>\n",
              "      <td>4.98</td>\n",
              "      <td>24.0</td>\n",
              "    </tr>\n",
              "    <tr>\n",
              "      <th>1</th>\n",
              "      <td>0.02731</td>\n",
              "      <td>0.0</td>\n",
              "      <td>7.07</td>\n",
              "      <td>0</td>\n",
              "      <td>0.469</td>\n",
              "      <td>6.421</td>\n",
              "      <td>78.9</td>\n",
              "      <td>4.9671</td>\n",
              "      <td>2</td>\n",
              "      <td>242.0</td>\n",
              "      <td>17.8</td>\n",
              "      <td>396.90</td>\n",
              "      <td>9.14</td>\n",
              "      <td>21.6</td>\n",
              "    </tr>\n",
              "    <tr>\n",
              "      <th>2</th>\n",
              "      <td>0.02729</td>\n",
              "      <td>0.0</td>\n",
              "      <td>7.07</td>\n",
              "      <td>0</td>\n",
              "      <td>0.469</td>\n",
              "      <td>7.185</td>\n",
              "      <td>61.1</td>\n",
              "      <td>4.9671</td>\n",
              "      <td>2</td>\n",
              "      <td>242.0</td>\n",
              "      <td>17.8</td>\n",
              "      <td>392.83</td>\n",
              "      <td>4.03</td>\n",
              "      <td>34.7</td>\n",
              "    </tr>\n",
              "    <tr>\n",
              "      <th>3</th>\n",
              "      <td>0.03237</td>\n",
              "      <td>0.0</td>\n",
              "      <td>2.18</td>\n",
              "      <td>0</td>\n",
              "      <td>0.458</td>\n",
              "      <td>6.998</td>\n",
              "      <td>45.8</td>\n",
              "      <td>6.0622</td>\n",
              "      <td>3</td>\n",
              "      <td>222.0</td>\n",
              "      <td>18.7</td>\n",
              "      <td>394.63</td>\n",
              "      <td>2.94</td>\n",
              "      <td>33.4</td>\n",
              "    </tr>\n",
              "    <tr>\n",
              "      <th>4</th>\n",
              "      <td>0.06905</td>\n",
              "      <td>0.0</td>\n",
              "      <td>2.18</td>\n",
              "      <td>0</td>\n",
              "      <td>0.458</td>\n",
              "      <td>7.147</td>\n",
              "      <td>54.2</td>\n",
              "      <td>6.0622</td>\n",
              "      <td>3</td>\n",
              "      <td>222.0</td>\n",
              "      <td>18.7</td>\n",
              "      <td>396.90</td>\n",
              "      <td>5.33</td>\n",
              "      <td>36.2</td>\n",
              "    </tr>\n",
              "  </tbody>\n",
              "</table>\n",
              "</div>\n",
              "      <button class=\"colab-df-convert\" onclick=\"convertToInteractive('df-f4c010bb-a3a9-4f36-97b9-c8f774dded76')\"\n",
              "              title=\"Convert this dataframe to an interactive table.\"\n",
              "              style=\"display:none;\">\n",
              "        \n",
              "  <svg xmlns=\"http://www.w3.org/2000/svg\" height=\"24px\"viewBox=\"0 0 24 24\"\n",
              "       width=\"24px\">\n",
              "    <path d=\"M0 0h24v24H0V0z\" fill=\"none\"/>\n",
              "    <path d=\"M18.56 5.44l.94 2.06.94-2.06 2.06-.94-2.06-.94-.94-2.06-.94 2.06-2.06.94zm-11 1L8.5 8.5l.94-2.06 2.06-.94-2.06-.94L8.5 2.5l-.94 2.06-2.06.94zm10 10l.94 2.06.94-2.06 2.06-.94-2.06-.94-.94-2.06-.94 2.06-2.06.94z\"/><path d=\"M17.41 7.96l-1.37-1.37c-.4-.4-.92-.59-1.43-.59-.52 0-1.04.2-1.43.59L10.3 9.45l-7.72 7.72c-.78.78-.78 2.05 0 2.83L4 21.41c.39.39.9.59 1.41.59.51 0 1.02-.2 1.41-.59l7.78-7.78 2.81-2.81c.8-.78.8-2.07 0-2.86zM5.41 20L4 18.59l7.72-7.72 1.47 1.35L5.41 20z\"/>\n",
              "  </svg>\n",
              "      </button>\n",
              "      \n",
              "  <style>\n",
              "    .colab-df-container {\n",
              "      display:flex;\n",
              "      flex-wrap:wrap;\n",
              "      gap: 12px;\n",
              "    }\n",
              "\n",
              "    .colab-df-convert {\n",
              "      background-color: #E8F0FE;\n",
              "      border: none;\n",
              "      border-radius: 50%;\n",
              "      cursor: pointer;\n",
              "      display: none;\n",
              "      fill: #1967D2;\n",
              "      height: 32px;\n",
              "      padding: 0 0 0 0;\n",
              "      width: 32px;\n",
              "    }\n",
              "\n",
              "    .colab-df-convert:hover {\n",
              "      background-color: #E2EBFA;\n",
              "      box-shadow: 0px 1px 2px rgba(60, 64, 67, 0.3), 0px 1px 3px 1px rgba(60, 64, 67, 0.15);\n",
              "      fill: #174EA6;\n",
              "    }\n",
              "\n",
              "    [theme=dark] .colab-df-convert {\n",
              "      background-color: #3B4455;\n",
              "      fill: #D2E3FC;\n",
              "    }\n",
              "\n",
              "    [theme=dark] .colab-df-convert:hover {\n",
              "      background-color: #434B5C;\n",
              "      box-shadow: 0px 1px 3px 1px rgba(0, 0, 0, 0.15);\n",
              "      filter: drop-shadow(0px 1px 2px rgba(0, 0, 0, 0.3));\n",
              "      fill: #FFFFFF;\n",
              "    }\n",
              "  </style>\n",
              "\n",
              "      <script>\n",
              "        const buttonEl =\n",
              "          document.querySelector('#df-f4c010bb-a3a9-4f36-97b9-c8f774dded76 button.colab-df-convert');\n",
              "        buttonEl.style.display =\n",
              "          google.colab.kernel.accessAllowed ? 'block' : 'none';\n",
              "\n",
              "        async function convertToInteractive(key) {\n",
              "          const element = document.querySelector('#df-f4c010bb-a3a9-4f36-97b9-c8f774dded76');\n",
              "          const dataTable =\n",
              "            await google.colab.kernel.invokeFunction('convertToInteractive',\n",
              "                                                     [key], {});\n",
              "          if (!dataTable) return;\n",
              "\n",
              "          const docLinkHtml = 'Like what you see? Visit the ' +\n",
              "            '<a target=\"_blank\" href=https://colab.research.google.com/notebooks/data_table.ipynb>data table notebook</a>'\n",
              "            + ' to learn more about interactive tables.';\n",
              "          element.innerHTML = '';\n",
              "          dataTable['output_type'] = 'display_data';\n",
              "          await google.colab.output.renderOutput(dataTable, element);\n",
              "          const docLink = document.createElement('div');\n",
              "          docLink.innerHTML = docLinkHtml;\n",
              "          element.appendChild(docLink);\n",
              "        }\n",
              "      </script>\n",
              "    </div>\n",
              "  </div>\n",
              "  "
            ]
          },
          "metadata": {},
          "execution_count": 5
        }
      ]
    },
    {
      "cell_type": "code",
      "source": [
        "df.info()"
      ],
      "metadata": {
        "colab": {
          "base_uri": "https://localhost:8080/"
        },
        "id": "mopehTZLGF8V",
        "outputId": "4ae94600-77a1-4b09-fe20-5172728dc9d7"
      },
      "execution_count": 6,
      "outputs": [
        {
          "output_type": "stream",
          "name": "stdout",
          "text": [
            "<class 'pandas.core.frame.DataFrame'>\n",
            "RangeIndex: 506 entries, 0 to 505\n",
            "Data columns (total 14 columns):\n",
            " #   Column   Non-Null Count  Dtype  \n",
            "---  ------   --------------  -----  \n",
            " 0   CRIM     506 non-null    float64\n",
            " 1   ZN       506 non-null    float64\n",
            " 2   INDUS    506 non-null    float64\n",
            " 3   CHAS     506 non-null    int64  \n",
            " 4   NOX      506 non-null    float64\n",
            " 5   RM       506 non-null    float64\n",
            " 6   AGE      506 non-null    float64\n",
            " 7   DIS      506 non-null    float64\n",
            " 8   RAD      506 non-null    int64  \n",
            " 9   TAX      506 non-null    float64\n",
            " 10  PTRATIO  506 non-null    float64\n",
            " 11  B        506 non-null    float64\n",
            " 12  LSTAT    506 non-null    float64\n",
            " 13  MEDV     506 non-null    float64\n",
            "dtypes: float64(12), int64(2)\n",
            "memory usage: 55.5 KB\n"
          ]
        }
      ]
    },
    {
      "cell_type": "code",
      "source": [
        "df.shape"
      ],
      "metadata": {
        "colab": {
          "base_uri": "https://localhost:8080/"
        },
        "id": "2KfvGH5VGJKr",
        "outputId": "68f31c34-1986-4c49-fa48-5faefb3c41c4"
      },
      "execution_count": 7,
      "outputs": [
        {
          "output_type": "execute_result",
          "data": {
            "text/plain": [
              "(506, 14)"
            ]
          },
          "metadata": {},
          "execution_count": 7
        }
      ]
    },
    {
      "cell_type": "code",
      "source": [
        "X = df.drop('MEDV',axis=1)\n",
        "y = df['MEDV']\n",
        "X.shape, y.shape"
      ],
      "metadata": {
        "colab": {
          "base_uri": "https://localhost:8080/"
        },
        "id": "140Kol2ZGL-4",
        "outputId": "464c08c7-f86a-4c35-f590-0dd9e66a0a14"
      },
      "execution_count": 8,
      "outputs": [
        {
          "output_type": "execute_result",
          "data": {
            "text/plain": [
              "((506, 13), (506,))"
            ]
          },
          "metadata": {},
          "execution_count": 8
        }
      ]
    },
    {
      "cell_type": "code",
      "source": [
        "#Histogram\n",
        "df['CRIM'].plot.hist(bins=20);"
      ],
      "metadata": {
        "colab": {
          "base_uri": "https://localhost:8080/",
          "height": 265
        },
        "id": "WRzwzKaRGOXU",
        "outputId": "fd2489bf-a0fb-4dbd-ec80-81c9e9f31c29"
      },
      "execution_count": 9,
      "outputs": [
        {
          "output_type": "display_data",
          "data": {
            "text/plain": [
              "<Figure size 432x288 with 1 Axes>"
            ],
            "image/png": "[encoded data removed]"
          },
          "metadata": {
            "needs_background": "light"
          }
        }
      ]
    },
    {
      "cell_type": "code",
      "source": [
        "df['ZN'].plot.hist();"
      ],
      "metadata": {
        "colab": {
          "base_uri": "https://localhost:8080/",
          "height": 265
        },
        "id": "NRz61N83GQds",
        "outputId": "97361d39-1ebf-4fd6-ca5c-b870933e1cb4"
      },
      "execution_count": 10,
      "outputs": [
        {
          "output_type": "display_data",
          "data": {
            "text/plain": [
              "<Figure size 432x288 with 1 Axes>"
            ],
            "image/png": "[encoded data removed]"
          },
          "metadata": {
            "needs_background": "light"
          }
        }
      ]
    },
    {
      "cell_type": "code",
      "source": [
        "df['AGE'].plot.hist();"
      ],
      "metadata": {
        "colab": {
          "base_uri": "https://localhost:8080/",
          "height": 265
        },
        "id": "Fua8cfe4GWNH",
        "outputId": "bbdc96f8-b835-4e32-b962-8533b74df481"
      },
      "execution_count": 11,
      "outputs": [
        {
          "output_type": "display_data",
          "data": {
            "text/plain": [
              "<Figure size 432x288 with 1 Axes>"
            ],
            "image/png": "[encoded data removed]"
          },
          "metadata": {
            "needs_background": "light"
          }
        }
      ]
    },
    {
      "cell_type": "code",
      "source": [
        "df['MEDV'].plot.hist();"
      ],
      "metadata": {
        "colab": {
          "base_uri": "https://localhost:8080/",
          "height": 267
        },
        "id": "wu_UzlDdGXVJ",
        "outputId": "8b59329f-8300-41ba-8baf-e3cc7958e30f"
      },
      "execution_count": 12,
      "outputs": [
        {
          "output_type": "display_data",
          "data": {
            "text/plain": [
              "<Figure size 432x288 with 1 Axes>"
            ],
            "image/png": "[encoded data removed]"
          },
          "metadata": {
            "needs_background": "light"
          }
        }
      ]
    },
    {
      "cell_type": "code",
      "source": [
        "df['MEDV'].mean()"
      ],
      "metadata": {
        "colab": {
          "base_uri": "https://localhost:8080/"
        },
        "id": "dnO5X9u9GbOG",
        "outputId": "5aba4bef-b433-4827-c525-02f1eadb6368"
      },
      "execution_count": 13,
      "outputs": [
        {
          "output_type": "execute_result",
          "data": {
            "text/plain": [
              "22.532806324110698"
            ]
          },
          "metadata": {},
          "execution_count": 13
        }
      ]
    },
    {
      "cell_type": "code",
      "source": [
        "df['RAD'].unique()"
      ],
      "metadata": {
        "colab": {
          "base_uri": "https://localhost:8080/"
        },
        "id": "ZirN2x4eGdc1",
        "outputId": "dba43c1b-8ff1-4bfa-9911-1a8b011b4c1e"
      },
      "execution_count": 14,
      "outputs": [
        {
          "output_type": "execute_result",
          "data": {
            "text/plain": [
              "array([ 1,  2,  3,  5,  4,  8,  6,  7, 24])"
            ]
          },
          "metadata": {},
          "execution_count": 14
        }
      ]
    },
    {
      "cell_type": "code",
      "source": [
        "df['CHAS'].unique()"
      ],
      "metadata": {
        "colab": {
          "base_uri": "https://localhost:8080/"
        },
        "id": "riOUIwgPGeOM",
        "outputId": "43e2a0fc-d048-4938-9b6d-c9fe6b5f1a6d"
      },
      "execution_count": 15,
      "outputs": [
        {
          "output_type": "execute_result",
          "data": {
            "text/plain": [
              "array([0, 1])"
            ]
          },
          "metadata": {},
          "execution_count": 15
        }
      ]
    },
    {
      "cell_type": "code",
      "source": [
        "df = pd.get_dummies(df, columns=['CHAS'],drop_first=True)"
      ],
      "metadata": {
        "id": "zo5KqorKGjlr"
      },
      "execution_count": 16,
      "outputs": []
    },
    {
      "cell_type": "code",
      "source": [
        "df.head()"
      ],
      "metadata": {
        "colab": {
          "base_uri": "https://localhost:8080/",
          "height": 206
        },
        "id": "nzT-bKlNGkNa",
        "outputId": "038d4f5b-072b-45fa-a406-cb46b8b98038"
      },
      "execution_count": 17,
      "outputs": [
        {
          "output_type": "execute_result",
          "data": {
            "text/plain": [
              "      CRIM    ZN  INDUS    NOX     RM   AGE     DIS  RAD    TAX  PTRATIO  \\\n",
              "0  0.00632  18.0   2.31  0.538  6.575  65.2  4.0900    1  296.0     15.3   \n",
              "1  0.02731   0.0   7.07  0.469  6.421  78.9  4.9671    2  242.0     17.8   \n",
              "2  0.02729   0.0   7.07  0.469  7.185  61.1  4.9671    2  242.0     17.8   \n",
              "3  0.03237   0.0   2.18  0.458  6.998  45.8  6.0622    3  222.0     18.7   \n",
              "4  0.06905   0.0   2.18  0.458  7.147  54.2  6.0622    3  222.0     18.7   \n",
              "\n",
              "        B  LSTAT  MEDV  CHAS_1  \n",
              "0  396.90   4.98  24.0       0  \n",
              "1  396.90   9.14  21.6       0  \n",
              "2  392.83   4.03  34.7       0  \n",
              "3  394.63   2.94  33.4       0  \n",
              "4  396.90   5.33  36.2       0  "
            ],
            "text/html": [
              "\n",
              "  <div id=\"df-09f95b16-acfd-4595-afa3-bc4afee4537c\">\n",
              "    <div class=\"colab-df-container\">\n",
              "      <div>\n",
              "<style scoped>\n",
              "    .dataframe tbody tr th:only-of-type {\n",
              "        vertical-align: middle;\n",
              "    }\n",
              "\n",
              "    .dataframe tbody tr th {\n",
              "        vertical-align: top;\n",
              "    }\n",
              "\n",
              "    .dataframe thead th {\n",
              "        text-align: right;\n",
              "    }\n",
              "</style>\n",
              "<table border=\"1\" class=\"dataframe\">\n",
              "  <thead>\n",
              "    <tr style=\"text-align: right;\">\n",
              "      <th></th>\n",
              "      <th>CRIM</th>\n",
              "      <th>ZN</th>\n",
              "      <th>INDUS</th>\n",
              "      <th>NOX</th>\n",
              "      <th>RM</th>\n",
              "      <th>AGE</th>\n",
              "      <th>DIS</th>\n",
              "      <th>RAD</th>\n",
              "      <th>TAX</th>\n",
              "      <th>PTRATIO</th>\n",
              "      <th>B</th>\n",
              "      <th>LSTAT</th>\n",
              "      <th>MEDV</th>\n",
              "      <th>CHAS_1</th>\n",
              "    </tr>\n",
              "  </thead>\n",
              "  <tbody>\n",
              "    <tr>\n",
              "      <th>0</th>\n",
              "      <td>0.00632</td>\n",
              "      <td>18.0</td>\n",
              "      <td>2.31</td>\n",
              "      <td>0.538</td>\n",
              "      <td>6.575</td>\n",
              "      <td>65.2</td>\n",
              "      <td>4.0900</td>\n",
              "      <td>1</td>\n",
              "      <td>296.0</td>\n",
              "      <td>15.3</td>\n",
              "      <td>396.90</td>\n",
              "      <td>4.98</td>\n",
              "      <td>24.0</td>\n",
              "      <td>0</td>\n",
              "    </tr>\n",
              "    <tr>\n",
              "      <th>1</th>\n",
              "      <td>0.02731</td>\n",
              "      <td>0.0</td>\n",
              "      <td>7.07</td>\n",
              "      <td>0.469</td>\n",
              "      <td>6.421</td>\n",
              "      <td>78.9</td>\n",
              "      <td>4.9671</td>\n",
              "      <td>2</td>\n",
              "      <td>242.0</td>\n",
              "      <td>17.8</td>\n",
              "      <td>396.90</td>\n",
              "      <td>9.14</td>\n",
              "      <td>21.6</td>\n",
              "      <td>0</td>\n",
              "    </tr>\n",
              "    <tr>\n",
              "      <th>2</th>\n",
              "      <td>0.02729</td>\n",
              "      <td>0.0</td>\n",
              "      <td>7.07</td>\n",
              "      <td>0.469</td>\n",
              "      <td>7.185</td>\n",
              "      <td>61.1</td>\n",
              "      <td>4.9671</td>\n",
              "      <td>2</td>\n",
              "      <td>242.0</td>\n",
              "      <td>17.8</td>\n",
              "      <td>392.83</td>\n",
              "      <td>4.03</td>\n",
              "      <td>34.7</td>\n",
              "      <td>0</td>\n",
              "    </tr>\n",
              "    <tr>\n",
              "      <th>3</th>\n",
              "      <td>0.03237</td>\n",
              "      <td>0.0</td>\n",
              "      <td>2.18</td>\n",
              "      <td>0.458</td>\n",
              "      <td>6.998</td>\n",
              "      <td>45.8</td>\n",
              "      <td>6.0622</td>\n",
              "      <td>3</td>\n",
              "      <td>222.0</td>\n",
              "      <td>18.7</td>\n",
              "      <td>394.63</td>\n",
              "      <td>2.94</td>\n",
              "      <td>33.4</td>\n",
              "      <td>0</td>\n",
              "    </tr>\n",
              "    <tr>\n",
              "      <th>4</th>\n",
              "      <td>0.06905</td>\n",
              "      <td>0.0</td>\n",
              "      <td>2.18</td>\n",
              "      <td>0.458</td>\n",
              "      <td>7.147</td>\n",
              "      <td>54.2</td>\n",
              "      <td>6.0622</td>\n",
              "      <td>3</td>\n",
              "      <td>222.0</td>\n",
              "      <td>18.7</td>\n",
              "      <td>396.90</td>\n",
              "      <td>5.33</td>\n",
              "      <td>36.2</td>\n",
              "      <td>0</td>\n",
              "    </tr>\n",
              "  </tbody>\n",
              "</table>\n",
              "</div>\n",
              "      <button class=\"colab-df-convert\" onclick=\"convertToInteractive('df-09f95b16-acfd-4595-afa3-bc4afee4537c')\"\n",
              "              title=\"Convert this dataframe to an interactive table.\"\n",
              "              style=\"display:none;\">\n",
              "        \n",
              "  <svg xmlns=\"http://www.w3.org/2000/svg\" height=\"24px\"viewBox=\"0 0 24 24\"\n",
              "       width=\"24px\">\n",
              "    <path d=\"M0 0h24v24H0V0z\" fill=\"none\"/>\n",
              "    <path d=\"M18.56 5.44l.94 2.06.94-2.06 2.06-.94-2.06-.94-.94-2.06-.94 2.06-2.06.94zm-11 1L8.5 8.5l.94-2.06 2.06-.94-2.06-.94L8.5 2.5l-.94 2.06-2.06.94zm10 10l.94 2.06.94-2.06 2.06-.94-2.06-.94-.94-2.06-.94 2.06-2.06.94z\"/><path d=\"M17.41 7.96l-1.37-1.37c-.4-.4-.92-.59-1.43-.59-.52 0-1.04.2-1.43.59L10.3 9.45l-7.72 7.72c-.78.78-.78 2.05 0 2.83L4 21.41c.39.39.9.59 1.41.59.51 0 1.02-.2 1.41-.59l7.78-7.78 2.81-2.81c.8-.78.8-2.07 0-2.86zM5.41 20L4 18.59l7.72-7.72 1.47 1.35L5.41 20z\"/>\n",
              "  </svg>\n",
              "      </button>\n",
              "      \n",
              "  <style>\n",
              "    .colab-df-container {\n",
              "      display:flex;\n",
              "      flex-wrap:wrap;\n",
              "      gap: 12px;\n",
              "    }\n",
              "\n",
              "    .colab-df-convert {\n",
              "      background-color: #E8F0FE;\n",
              "      border: none;\n",
              "      border-radius: 50%;\n",
              "      cursor: pointer;\n",
              "      display: none;\n",
              "      fill: #1967D2;\n",
              "      height: 32px;\n",
              "      padding: 0 0 0 0;\n",
              "      width: 32px;\n",
              "    }\n",
              "\n",
              "    .colab-df-convert:hover {\n",
              "      background-color: #E2EBFA;\n",
              "      box-shadow: 0px 1px 2px rgba(60, 64, 67, 0.3), 0px 1px 3px 1px rgba(60, 64, 67, 0.15);\n",
              "      fill: #174EA6;\n",
              "    }\n",
              "\n",
              "    [theme=dark] .colab-df-convert {\n",
              "      background-color: #3B4455;\n",
              "      fill: #D2E3FC;\n",
              "    }\n",
              "\n",
              "    [theme=dark] .colab-df-convert:hover {\n",
              "      background-color: #434B5C;\n",
              "      box-shadow: 0px 1px 3px 1px rgba(0, 0, 0, 0.15);\n",
              "      filter: drop-shadow(0px 1px 2px rgba(0, 0, 0, 0.3));\n",
              "      fill: #FFFFFF;\n",
              "    }\n",
              "  </style>\n",
              "\n",
              "      <script>\n",
              "        const buttonEl =\n",
              "          document.querySelector('#df-09f95b16-acfd-4595-afa3-bc4afee4537c button.colab-df-convert');\n",
              "        buttonEl.style.display =\n",
              "          google.colab.kernel.accessAllowed ? 'block' : 'none';\n",
              "\n",
              "        async function convertToInteractive(key) {\n",
              "          const element = document.querySelector('#df-09f95b16-acfd-4595-afa3-bc4afee4537c');\n",
              "          const dataTable =\n",
              "            await google.colab.kernel.invokeFunction('convertToInteractive',\n",
              "                                                     [key], {});\n",
              "          if (!dataTable) return;\n",
              "\n",
              "          const docLinkHtml = 'Like what you see? Visit the ' +\n",
              "            '<a target=\"_blank\" href=https://colab.research.google.com/notebooks/data_table.ipynb>data table notebook</a>'\n",
              "            + ' to learn more about interactive tables.';\n",
              "          element.innerHTML = '';\n",
              "          dataTable['output_type'] = 'display_data';\n",
              "          await google.colab.output.renderOutput(dataTable, element);\n",
              "          const docLink = document.createElement('div');\n",
              "          docLink.innerHTML = docLinkHtml;\n",
              "          element.appendChild(docLink);\n",
              "        }\n",
              "      </script>\n",
              "    </div>\n",
              "  </div>\n",
              "  "
            ]
          },
          "metadata": {},
          "execution_count": 17
        }
      ]
    },
    {
      "cell_type": "code",
      "source": [
        "#membagi data menjadi pelatihan\n",
        "from sklearn.model_selection import train_test_split\n",
        "\n",
        "X_train, X_test, y_train, y_test = train_test_split(X,y,test_size=0.2)\n",
        "\n",
        "X_train.shape, X_test.shape, y_train.shape, y_test.shape"
      ],
      "metadata": {
        "colab": {
          "base_uri": "https://localhost:8080/"
        },
        "id": "Cn2xpCsRGmH_",
        "outputId": "914e139d-710f-4dfb-8ec9-8d41325f33c7"
      },
      "execution_count": 18,
      "outputs": [
        {
          "output_type": "execute_result",
          "data": {
            "text/plain": [
              "((404, 13), (102, 13), (404,), (102,))"
            ]
          },
          "metadata": {},
          "execution_count": 18
        }
      ]
    },
    {
      "cell_type": "code",
      "source": [
        "X_train, X_valid, y_train, y_valid = train_test_split(X_train, y_train, test_size=0.1)"
      ],
      "metadata": {
        "id": "xeUMUH-mGpIy"
      },
      "execution_count": 19,
      "outputs": []
    },
    {
      "cell_type": "code",
      "source": [
        "#Data Preprocessing Menggunakan Library Python Scikit-learn\n",
        "from sklearn.preprocessing import StandardScaler\n",
        "from sklearn.compose import make_column_transformer\n",
        "\n",
        "ct = make_column_transformer(\n",
        "    (StandardScaler(), ['CRIM', 'ZN', 'INDUS', 'NOX', 'RM', 'AGE', 'DIS', 'RAD', 'TAX', 'PTRATIO', 'B', 'LSTAT']),\n",
        "    remainder='passthrough'\n",
        "    )\n",
        "\n",
        "ct.fit(X_train)"
      ],
      "metadata": {
        "colab": {
          "base_uri": "https://localhost:8080/"
        },
        "id": "VO1_KXs4GsD4",
        "outputId": "6c8847ea-95c1-4ce2-b5b2-45d741fc33aa"
      },
      "execution_count": 20,
      "outputs": [
        {
          "output_type": "execute_result",
          "data": {
            "text/plain": [
              "ColumnTransformer(remainder='passthrough',\n",
              "                  transformers=[('standardscaler', StandardScaler(),\n",
              "                                 ['CRIM', 'ZN', 'INDUS', 'NOX', 'RM', 'AGE',\n",
              "                                  'DIS', 'RAD', 'TAX', 'PTRATIO', 'B',\n",
              "                                  'LSTAT'])])"
            ]
          },
          "metadata": {},
          "execution_count": 20
        }
      ]
    },
    {
      "cell_type": "code",
      "source": [
        "ct.transform(X_train)\n",
        "ct.transform(X_test)\n",
        "ct.transform(X_valid);"
      ],
      "metadata": {
        "id": "OEl1ArWvGuqI"
      },
      "execution_count": 21,
      "outputs": []
    },
    {
      "cell_type": "code",
      "source": [
        "import tensorflow as tf"
      ],
      "metadata": {
        "id": "d5RDFjYCGxMl"
      },
      "execution_count": 22,
      "outputs": []
    },
    {
      "cell_type": "code",
      "source": [
        "#Membuat Model NN\n",
        "model_1 = tf.keras.Sequential([\n",
        "    tf.keras.layers.Dense(10,activation='relu'),\n",
        "    tf.keras.layers.Dense(10,activation='relu'),\n",
        "    tf.keras.layers.Dense(1, activation='linear')\n",
        "])"
      ],
      "metadata": {
        "id": "Y_UogIkPGzZ6"
      },
      "execution_count": 28,
      "outputs": []
    },
    {
      "cell_type": "code",
      "source": [
        "model_1.compile(loss = tf.keras.losses.mean_absolute_error,\n",
        "               optimizer = tf.keras.optimizers.Adam(lr=0.01),\n",
        "               metrics=['mae'])"
      ],
      "metadata": {
        "id": "Rh3N7I6OHoQN"
      },
      "execution_count": 29,
      "outputs": []
    },
    {
      "cell_type": "code",
      "source": [
        "history_1 = model_1.fit(X_train, y_train, epochs=100, validation_data=(X_valid,y_valid))"
      ],
      "metadata": {
        "colab": {
          "base_uri": "https://localhost:8080/"
        },
        "id": "8YYOMioSHsLV",
        "outputId": "efa0fd2a-a013-46d4-aff5-40746ea7b12e"
      },
      "execution_count": 33,
      "outputs": [
        {
          "output_type": "stream",
          "name": "stdout",
          "text": [
            "Epoch 1/100\n",
            "12/12 [==============================] - 0s 19ms/step - loss: 3.5696 - mae: 3.5696 - val_loss: 4.3572 - val_mae: 4.3572\n",
            "Epoch 2/100\n",
            "12/12 [==============================] - 0s 7ms/step - loss: 3.8395 - mae: 3.8395 - val_loss: 3.7198 - val_mae: 3.7198\n",
            "Epoch 3/100\n",
            "12/12 [==============================] - 0s 5ms/step - loss: 3.5001 - mae: 3.5001 - val_loss: 3.6144 - val_mae: 3.6144\n",
            "Epoch 4/100\n",
            "12/12 [==============================] - 0s 5ms/step - loss: 3.6271 - mae: 3.6271 - val_loss: 4.2977 - val_mae: 4.2977\n",
            "Epoch 5/100\n",
            "12/12 [==============================] - 0s 6ms/step - loss: 3.7771 - mae: 3.7771 - val_loss: 3.7148 - val_mae: 3.7148\n",
            "Epoch 6/100\n",
            "12/12 [==============================] - 0s 5ms/step - loss: 3.5286 - mae: 3.5286 - val_loss: 4.1179 - val_mae: 4.1179\n",
            "Epoch 7/100\n",
            "12/12 [==============================] - 0s 6ms/step - loss: 3.4512 - mae: 3.4512 - val_loss: 3.9520 - val_mae: 3.9520\n",
            "Epoch 8/100\n",
            "12/12 [==============================] - 0s 5ms/step - loss: 3.5103 - mae: 3.5103 - val_loss: 3.8162 - val_mae: 3.8162\n",
            "Epoch 9/100\n",
            "12/12 [==============================] - 0s 6ms/step - loss: 3.7479 - mae: 3.7479 - val_loss: 4.0321 - val_mae: 4.0321\n",
            "Epoch 10/100\n",
            "12/12 [==============================] - 0s 4ms/step - loss: 3.4330 - mae: 3.4330 - val_loss: 3.8219 - val_mae: 3.8219\n",
            "Epoch 11/100\n",
            "12/12 [==============================] - 0s 4ms/step - loss: 3.4597 - mae: 3.4597 - val_loss: 3.9801 - val_mae: 3.9801\n",
            "Epoch 12/100\n",
            "12/12 [==============================] - 0s 5ms/step - loss: 3.3482 - mae: 3.3482 - val_loss: 3.6599 - val_mae: 3.6599\n",
            "Epoch 13/100\n",
            "12/12 [==============================] - 0s 5ms/step - loss: 3.6333 - mae: 3.6333 - val_loss: 3.8256 - val_mae: 3.8256\n",
            "Epoch 14/100\n",
            "12/12 [==============================] - 0s 5ms/step - loss: 4.0559 - mae: 4.0559 - val_loss: 4.2237 - val_mae: 4.2237\n",
            "Epoch 15/100\n",
            "12/12 [==============================] - 0s 5ms/step - loss: 3.5272 - mae: 3.5272 - val_loss: 4.0695 - val_mae: 4.0695\n",
            "Epoch 16/100\n",
            "12/12 [==============================] - 0s 5ms/step - loss: 3.5601 - mae: 3.5601 - val_loss: 3.9106 - val_mae: 3.9106\n",
            "Epoch 17/100\n",
            "12/12 [==============================] - 0s 6ms/step - loss: 3.7143 - mae: 3.7143 - val_loss: 3.8026 - val_mae: 3.8026\n",
            "Epoch 18/100\n",
            "12/12 [==============================] - 0s 5ms/step - loss: 3.5248 - mae: 3.5248 - val_loss: 4.1295 - val_mae: 4.1295\n",
            "Epoch 19/100\n",
            "12/12 [==============================] - 0s 5ms/step - loss: 3.5136 - mae: 3.5136 - val_loss: 4.2894 - val_mae: 4.2894\n",
            "Epoch 20/100\n",
            "12/12 [==============================] - 0s 6ms/step - loss: 3.4588 - mae: 3.4588 - val_loss: 3.8105 - val_mae: 3.8105\n",
            "Epoch 21/100\n",
            "12/12 [==============================] - 0s 5ms/step - loss: 3.4447 - mae: 3.4447 - val_loss: 3.7650 - val_mae: 3.7650\n",
            "Epoch 22/100\n",
            "12/12 [==============================] - 0s 5ms/step - loss: 3.6131 - mae: 3.6131 - val_loss: 3.9834 - val_mae: 3.9834\n",
            "Epoch 23/100\n",
            "12/12 [==============================] - 0s 6ms/step - loss: 3.9450 - mae: 3.9450 - val_loss: 4.0484 - val_mae: 4.0484\n",
            "Epoch 24/100\n",
            "12/12 [==============================] - 0s 5ms/step - loss: 3.9493 - mae: 3.9493 - val_loss: 4.7843 - val_mae: 4.7843\n",
            "Epoch 25/100\n",
            "12/12 [==============================] - 0s 5ms/step - loss: 4.0866 - mae: 4.0866 - val_loss: 3.9304 - val_mae: 3.9304\n",
            "Epoch 26/100\n",
            "12/12 [==============================] - 0s 7ms/step - loss: 3.6728 - mae: 3.6728 - val_loss: 3.7745 - val_mae: 3.7745\n",
            "Epoch 27/100\n",
            "12/12 [==============================] - 0s 6ms/step - loss: 3.5912 - mae: 3.5912 - val_loss: 3.7693 - val_mae: 3.7693\n",
            "Epoch 28/100\n",
            "12/12 [==============================] - 0s 6ms/step - loss: 3.3715 - mae: 3.3715 - val_loss: 3.9841 - val_mae: 3.9841\n",
            "Epoch 29/100\n",
            "12/12 [==============================] - 0s 6ms/step - loss: 3.4913 - mae: 3.4913 - val_loss: 3.7541 - val_mae: 3.7541\n",
            "Epoch 30/100\n",
            "12/12 [==============================] - 0s 5ms/step - loss: 3.5458 - mae: 3.5458 - val_loss: 3.6757 - val_mae: 3.6757\n",
            "Epoch 31/100\n",
            "12/12 [==============================] - 0s 5ms/step - loss: 3.5031 - mae: 3.5031 - val_loss: 3.8169 - val_mae: 3.8169\n",
            "Epoch 32/100\n",
            "12/12 [==============================] - 0s 6ms/step - loss: 3.6223 - mae: 3.6223 - val_loss: 3.7691 - val_mae: 3.7691\n",
            "Epoch 33/100\n",
            "12/12 [==============================] - 0s 6ms/step - loss: 3.3024 - mae: 3.3024 - val_loss: 4.0271 - val_mae: 4.0271\n",
            "Epoch 34/100\n",
            "12/12 [==============================] - 0s 5ms/step - loss: 4.2614 - mae: 4.2614 - val_loss: 4.5041 - val_mae: 4.5041\n",
            "Epoch 35/100\n",
            "12/12 [==============================] - 0s 6ms/step - loss: 3.9134 - mae: 3.9134 - val_loss: 3.8938 - val_mae: 3.8938\n",
            "Epoch 36/100\n",
            "12/12 [==============================] - 0s 5ms/step - loss: 3.5378 - mae: 3.5378 - val_loss: 4.2533 - val_mae: 4.2533\n",
            "Epoch 37/100\n",
            "12/12 [==============================] - 0s 5ms/step - loss: 3.5729 - mae: 3.5729 - val_loss: 4.1991 - val_mae: 4.1991\n",
            "Epoch 38/100\n",
            "12/12 [==============================] - 0s 5ms/step - loss: 3.8759 - mae: 3.8759 - val_loss: 4.0822 - val_mae: 4.0822\n",
            "Epoch 39/100\n",
            "12/12 [==============================] - 0s 5ms/step - loss: 3.6506 - mae: 3.6506 - val_loss: 3.5852 - val_mae: 3.5852\n",
            "Epoch 40/100\n",
            "12/12 [==============================] - 0s 5ms/step - loss: 3.3501 - mae: 3.3501 - val_loss: 3.6966 - val_mae: 3.6966\n",
            "Epoch 41/100\n",
            "12/12 [==============================] - 0s 6ms/step - loss: 3.8199 - mae: 3.8199 - val_loss: 5.3918 - val_mae: 5.3918\n",
            "Epoch 42/100\n",
            "12/12 [==============================] - 0s 7ms/step - loss: 3.7663 - mae: 3.7663 - val_loss: 3.6968 - val_mae: 3.6968\n",
            "Epoch 43/100\n",
            "12/12 [==============================] - 0s 4ms/step - loss: 3.6395 - mae: 3.6395 - val_loss: 3.9357 - val_mae: 3.9357\n",
            "Epoch 44/100\n",
            "12/12 [==============================] - 0s 5ms/step - loss: 3.3932 - mae: 3.3932 - val_loss: 3.5746 - val_mae: 3.5746\n",
            "Epoch 45/100\n",
            "12/12 [==============================] - 0s 5ms/step - loss: 3.5051 - mae: 3.5051 - val_loss: 4.4210 - val_mae: 4.4210\n",
            "Epoch 46/100\n",
            "12/12 [==============================] - 0s 7ms/step - loss: 3.8179 - mae: 3.8179 - val_loss: 3.8171 - val_mae: 3.8171\n",
            "Epoch 47/100\n",
            "12/12 [==============================] - 0s 5ms/step - loss: 3.5860 - mae: 3.5860 - val_loss: 3.6907 - val_mae: 3.6907\n",
            "Epoch 48/100\n",
            "12/12 [==============================] - 0s 5ms/step - loss: 3.2929 - mae: 3.2929 - val_loss: 3.6792 - val_mae: 3.6792\n",
            "Epoch 49/100\n",
            "12/12 [==============================] - 0s 5ms/step - loss: 3.2796 - mae: 3.2796 - val_loss: 3.4371 - val_mae: 3.4371\n",
            "Epoch 50/100\n",
            "12/12 [==============================] - 0s 5ms/step - loss: 3.3896 - mae: 3.3896 - val_loss: 3.2696 - val_mae: 3.2696\n",
            "Epoch 51/100\n",
            "12/12 [==============================] - 0s 6ms/step - loss: 3.6211 - mae: 3.6211 - val_loss: 4.3712 - val_mae: 4.3712\n",
            "Epoch 52/100\n",
            "12/12 [==============================] - 0s 6ms/step - loss: 3.7077 - mae: 3.7077 - val_loss: 3.5639 - val_mae: 3.5639\n",
            "Epoch 53/100\n",
            "12/12 [==============================] - 0s 5ms/step - loss: 3.4399 - mae: 3.4399 - val_loss: 3.8249 - val_mae: 3.8249\n",
            "Epoch 54/100\n",
            "12/12 [==============================] - 0s 5ms/step - loss: 3.5511 - mae: 3.5511 - val_loss: 3.4525 - val_mae: 3.4525\n",
            "Epoch 55/100\n",
            "12/12 [==============================] - 0s 6ms/step - loss: 3.3389 - mae: 3.3389 - val_loss: 3.3127 - val_mae: 3.3127\n",
            "Epoch 56/100\n",
            "12/12 [==============================] - 0s 5ms/step - loss: 3.2798 - mae: 3.2798 - val_loss: 3.7160 - val_mae: 3.7160\n",
            "Epoch 57/100\n",
            "12/12 [==============================] - 0s 7ms/step - loss: 3.2902 - mae: 3.2902 - val_loss: 3.3940 - val_mae: 3.3940\n",
            "Epoch 58/100\n",
            "12/12 [==============================] - 0s 5ms/step - loss: 3.2586 - mae: 3.2586 - val_loss: 3.7982 - val_mae: 3.7982\n",
            "Epoch 59/100\n",
            "12/12 [==============================] - 0s 5ms/step - loss: 3.4474 - mae: 3.4474 - val_loss: 3.5968 - val_mae: 3.5968\n",
            "Epoch 60/100\n",
            "12/12 [==============================] - 0s 5ms/step - loss: 3.3994 - mae: 3.3994 - val_loss: 3.8202 - val_mae: 3.8202\n",
            "Epoch 61/100\n",
            "12/12 [==============================] - 0s 5ms/step - loss: 3.5448 - mae: 3.5448 - val_loss: 3.7124 - val_mae: 3.7124\n",
            "Epoch 62/100\n",
            "12/12 [==============================] - 0s 5ms/step - loss: 3.7713 - mae: 3.7713 - val_loss: 3.5257 - val_mae: 3.5257\n",
            "Epoch 63/100\n",
            "12/12 [==============================] - 0s 5ms/step - loss: 3.6230 - mae: 3.6230 - val_loss: 3.7549 - val_mae: 3.7549\n",
            "Epoch 64/100\n",
            "12/12 [==============================] - 0s 5ms/step - loss: 3.5292 - mae: 3.5292 - val_loss: 3.9157 - val_mae: 3.9157\n",
            "Epoch 65/100\n",
            "12/12 [==============================] - 0s 5ms/step - loss: 3.8851 - mae: 3.8851 - val_loss: 3.9192 - val_mae: 3.9192\n",
            "Epoch 66/100\n",
            "12/12 [==============================] - 0s 5ms/step - loss: 3.6169 - mae: 3.6169 - val_loss: 3.5469 - val_mae: 3.5469\n",
            "Epoch 67/100\n",
            "12/12 [==============================] - 0s 6ms/step - loss: 3.7226 - mae: 3.7226 - val_loss: 3.7834 - val_mae: 3.7834\n",
            "Epoch 68/100\n",
            "12/12 [==============================] - 0s 5ms/step - loss: 3.3252 - mae: 3.3252 - val_loss: 4.2415 - val_mae: 4.2415\n",
            "Epoch 69/100\n",
            "12/12 [==============================] - 0s 5ms/step - loss: 3.6310 - mae: 3.6310 - val_loss: 4.3803 - val_mae: 4.3803\n",
            "Epoch 70/100\n",
            "12/12 [==============================] - 0s 5ms/step - loss: 3.3780 - mae: 3.3780 - val_loss: 3.9057 - val_mae: 3.9057\n",
            "Epoch 71/100\n",
            "12/12 [==============================] - 0s 5ms/step - loss: 3.5858 - mae: 3.5858 - val_loss: 4.9343 - val_mae: 4.9343\n",
            "Epoch 72/100\n",
            "12/12 [==============================] - 0s 5ms/step - loss: 4.1215 - mae: 4.1215 - val_loss: 3.3724 - val_mae: 3.3724\n",
            "Epoch 73/100\n",
            "12/12 [==============================] - 0s 5ms/step - loss: 3.7446 - mae: 3.7446 - val_loss: 4.0645 - val_mae: 4.0645\n",
            "Epoch 74/100\n",
            "12/12 [==============================] - 0s 7ms/step - loss: 4.0409 - mae: 4.0409 - val_loss: 3.6970 - val_mae: 3.6970\n",
            "Epoch 75/100\n",
            "12/12 [==============================] - 0s 5ms/step - loss: 3.3716 - mae: 3.3716 - val_loss: 3.8522 - val_mae: 3.8522\n",
            "Epoch 76/100\n",
            "12/12 [==============================] - 0s 6ms/step - loss: 3.4645 - mae: 3.4645 - val_loss: 3.2636 - val_mae: 3.2636\n",
            "Epoch 77/100\n",
            "12/12 [==============================] - 0s 5ms/step - loss: 3.5112 - mae: 3.5112 - val_loss: 3.3834 - val_mae: 3.3834\n",
            "Epoch 78/100\n",
            "12/12 [==============================] - 0s 5ms/step - loss: 3.3181 - mae: 3.3181 - val_loss: 3.4982 - val_mae: 3.4982\n",
            "Epoch 79/100\n",
            "12/12 [==============================] - 0s 5ms/step - loss: 3.2675 - mae: 3.2675 - val_loss: 3.4594 - val_mae: 3.4594\n",
            "Epoch 80/100\n",
            "12/12 [==============================] - 0s 5ms/step - loss: 3.2427 - mae: 3.2427 - val_loss: 3.3811 - val_mae: 3.3811\n",
            "Epoch 81/100\n",
            "12/12 [==============================] - 0s 5ms/step - loss: 3.5224 - mae: 3.5224 - val_loss: 3.4842 - val_mae: 3.4842\n",
            "Epoch 82/100\n",
            "12/12 [==============================] - 0s 6ms/step - loss: 3.4399 - mae: 3.4399 - val_loss: 3.4049 - val_mae: 3.4049\n",
            "Epoch 83/100\n",
            "12/12 [==============================] - 0s 5ms/step - loss: 3.2535 - mae: 3.2535 - val_loss: 3.2978 - val_mae: 3.2978\n",
            "Epoch 84/100\n",
            "12/12 [==============================] - 0s 6ms/step - loss: 3.2039 - mae: 3.2039 - val_loss: 3.6783 - val_mae: 3.6783\n",
            "Epoch 85/100\n",
            "12/12 [==============================] - 0s 5ms/step - loss: 3.6149 - mae: 3.6149 - val_loss: 3.9272 - val_mae: 3.9272\n",
            "Epoch 86/100\n",
            "12/12 [==============================] - 0s 5ms/step - loss: 3.4967 - mae: 3.4967 - val_loss: 3.6436 - val_mae: 3.6436\n",
            "Epoch 87/100\n",
            "12/12 [==============================] - 0s 5ms/step - loss: 3.3735 - mae: 3.3735 - val_loss: 4.0045 - val_mae: 4.0045\n",
            "Epoch 88/100\n",
            "12/12 [==============================] - 0s 5ms/step - loss: 3.6865 - mae: 3.6865 - val_loss: 4.1386 - val_mae: 4.1386\n",
            "Epoch 89/100\n",
            "12/12 [==============================] - 0s 6ms/step - loss: 3.4887 - mae: 3.4887 - val_loss: 3.4161 - val_mae: 3.4161\n",
            "Epoch 90/100\n",
            "12/12 [==============================] - 0s 5ms/step - loss: 3.2981 - mae: 3.2981 - val_loss: 3.4273 - val_mae: 3.4273\n",
            "Epoch 91/100\n",
            "12/12 [==============================] - 0s 6ms/step - loss: 3.2855 - mae: 3.2855 - val_loss: 3.9773 - val_mae: 3.9773\n",
            "Epoch 92/100\n",
            "12/12 [==============================] - 0s 5ms/step - loss: 3.4032 - mae: 3.4032 - val_loss: 3.4489 - val_mae: 3.4489\n",
            "Epoch 93/100\n",
            "12/12 [==============================] - 0s 5ms/step - loss: 3.1813 - mae: 3.1813 - val_loss: 3.8404 - val_mae: 3.8404\n",
            "Epoch 94/100\n",
            "12/12 [==============================] - 0s 5ms/step - loss: 3.4332 - mae: 3.4332 - val_loss: 3.6851 - val_mae: 3.6851\n",
            "Epoch 95/100\n",
            "12/12 [==============================] - 0s 5ms/step - loss: 3.5128 - mae: 3.5128 - val_loss: 3.3348 - val_mae: 3.3348\n",
            "Epoch 96/100\n",
            "12/12 [==============================] - 0s 6ms/step - loss: 3.2778 - mae: 3.2778 - val_loss: 4.6416 - val_mae: 4.6416\n",
            "Epoch 97/100\n",
            "12/12 [==============================] - 0s 5ms/step - loss: 3.6408 - mae: 3.6408 - val_loss: 3.1883 - val_mae: 3.1883\n",
            "Epoch 98/100\n",
            "12/12 [==============================] - 0s 6ms/step - loss: 3.3307 - mae: 3.3307 - val_loss: 3.8879 - val_mae: 3.8879\n",
            "Epoch 99/100\n",
            "12/12 [==============================] - 0s 5ms/step - loss: 3.6369 - mae: 3.6369 - val_loss: 3.5967 - val_mae: 3.5967\n",
            "Epoch 100/100\n",
            "12/12 [==============================] - 0s 5ms/step - loss: 3.6610 - mae: 3.6610 - val_loss: 3.2343 - val_mae: 3.2343\n"
          ]
        }
      ]
    },
    {
      "cell_type": "code",
      "source": [
        "model_1.summary()"
      ],
      "metadata": {
        "colab": {
          "base_uri": "https://localhost:8080/"
        },
        "id": "Q5jkGLgNG3LY",
        "outputId": "ef1247ec-4c64-4340-c284-65fc9fc470d0"
      },
      "execution_count": 32,
      "outputs": [
        {
          "output_type": "stream",
          "name": "stdout",
          "text": [
            "Model: \"sequential_2\"\n",
            "_________________________________________________________________\n",
            " Layer (type)                Output Shape              Param #   \n",
            "=================================================================\n",
            " dense_6 (Dense)             (None, 10)                140       \n",
            "                                                                 \n",
            " dense_7 (Dense)             (None, 10)                110       \n",
            "                                                                 \n",
            " dense_8 (Dense)             (None, 1)                 11        \n",
            "                                                                 \n",
            "=================================================================\n",
            "Total params: 261\n",
            "Trainable params: 261\n",
            "Non-trainable params: 0\n",
            "_________________________________________________________________\n"
          ]
        }
      ]
    },
    {
      "cell_type": "code",
      "source": [
        "#visualisasi model\n",
        "model_1_viz = tf.keras.utils.plot_model(model_1,\n",
        "                          to_file='model.png',\n",
        "                          show_shapes=True,\n",
        "                          show_layer_names=True,\n",
        "                          rankdir='TB',\n",
        "                          expand_nested=True,\n",
        "                          dpi=55)\n",
        "model_1_viz"
      ],
      "metadata": {
        "colab": {
          "base_uri": "https://localhost:8080/",
          "height": 249
        },
        "id": "VmsGpmXHH8hT",
        "outputId": "d5ba5a0d-120f-41f4-96d9-4b16492bbed1"
      },
      "execution_count": 37,
      "outputs": [
        {
          "output_type": "execute_result",
          "data": {
            "text/plain": [
              "<IPython.core.display.Image object>"
            ],
            "image/png": "[encoded data removed]"
          },
          "metadata": {},
          "execution_count": 37
        }
      ]
    },
    {
      "cell_type": "code",
      "source": [
        "pd.DataFrame(history_1.history).plot();"
      ],
      "metadata": {
        "colab": {
          "base_uri": "https://localhost:8080/",
          "height": 269
        },
        "id": "EuupGbCwIPvt",
        "outputId": "6163db06-e18f-4b69-b517-a325c25cd371"
      },
      "execution_count": 38,
      "outputs": [
        {
          "output_type": "display_data",
          "data": {
            "text/plain": [
              "<Figure size 432x288 with 1 Axes>"
            ],
            "image/png": "[encoded data removed]"
          },
          "metadata": {
            "needs_background": "light"
          }
        }
      ]
    },
    {
      "cell_type": "code",
      "source": [
        "#evaluasi model \n",
        "model_1.evaluate(X_test,y_test)"
      ],
      "metadata": {
        "colab": {
          "base_uri": "https://localhost:8080/"
        },
        "id": "bZHMgbXTITkY",
        "outputId": "2cb611fe-eb00-4f53-882d-d1dac1573f76"
      },
      "execution_count": 39,
      "outputs": [
        {
          "output_type": "stream",
          "name": "stdout",
          "text": [
            "4/4 [==============================] - 0s 5ms/step - loss: 2.9905 - mae: 2.9905\n"
          ]
        },
        {
          "output_type": "execute_result",
          "data": {
            "text/plain": [
              "[2.9905169010162354, 2.9905169010162354]"
            ]
          },
          "metadata": {},
          "execution_count": 39
        }
      ]
    },
    {
      "cell_type": "code",
      "source": [
        "y_pred = model_1.predict(X_test)"
      ],
      "metadata": {
        "id": "Qu3w5yH1IbMl"
      },
      "execution_count": 40,
      "outputs": []
    },
    {
      "cell_type": "code",
      "source": [
        "import matplotlib.pyplot as plt"
      ],
      "metadata": {
        "id": "a3dqxpwQIebN"
      },
      "execution_count": 41,
      "outputs": []
    },
    {
      "cell_type": "code",
      "source": [
        "plt.figure()\n",
        "plt.scatter(range(len(y_test)),y_test,color='red')\n",
        "plt.scatter(range(len(y_pred)),y_pred,color='blue');"
      ],
      "metadata": {
        "colab": {
          "base_uri": "https://localhost:8080/",
          "height": 265
        },
        "id": "5nttxVwOIiZO",
        "outputId": "8dfa4f5c-a61a-45cc-845a-2bbc57ed5795"
      },
      "execution_count": 42,
      "outputs": [
        {
          "output_type": "display_data",
          "data": {
            "text/plain": [
              "<Figure size 432x288 with 1 Axes>"
            ],
            "image/png": "[encoded data removed]"
          },
          "metadata": {
            "needs_background": "light"
          }
        }
      ]
    }
  ]
}